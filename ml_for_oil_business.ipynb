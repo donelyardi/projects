{
 "cells": [
  {
   "cell_type": "markdown",
   "metadata": {},
   "source": [
    "# Выбор локации для скважины"
   ]
  },
  {
   "cell_type": "markdown",
   "metadata": {},
   "source": [
    "Допустим, вы работаете в добывающей компании «ГлавРосГосНефть». Нужно решить, где бурить новую скважину.\n",
    "\n",
    "Вам предоставлены пробы нефти в трёх регионах: в каждом 100 000 месторождений, где измерили качество нефти и объём её запасов. Постройте модель машинного обучения, которая поможет определить регион, где добыча принесёт наибольшую прибыль. Проанализируйте возможную прибыль и риски техникой *Bootstrap.*\n",
    "\n",
    "Шаги для выбора локации:\n",
    "\n",
    "- В избранном регионе ищут месторождения, для каждого определяют значения признаков;\n",
    "- Строят модель и оценивают объём запасов;\n",
    "- Выбирают месторождения с самым высокими оценками значений. Количество месторождений зависит от бюджета компании и стоимости разработки одной скважины;\n",
    "- Прибыль равна суммарной прибыли отобранных месторождений."
   ]
  },
  {
   "cell_type": "markdown",
   "metadata": {},
   "source": [
    "## Загрузка и подготовка данных"
   ]
  },
  {
   "cell_type": "markdown",
   "metadata": {},
   "source": [
    "Импортируем все необходимые библиотеки в одной ячейке"
   ]
  },
  {
   "cell_type": "code",
   "execution_count": 1,
   "metadata": {},
   "outputs": [],
   "source": [
    "!pip install phik -q"
   ]
  },
  {
   "cell_type": "code",
   "execution_count": 2,
   "metadata": {},
   "outputs": [],
   "source": [
    "import pandas as pd\n",
    "import seaborn as sns\n",
    "import matplotlib.pyplot as plt\n",
    "import numpy as np\n",
    "import phik\n",
    "\n",
    "from sklearn.metrics import mean_squared_error\n",
    "from sklearn.model_selection import train_test_split\n",
    "from sklearn.linear_model import LinearRegression\n",
    "from sklearn.preprocessing import StandardScaler"
   ]
  },
  {
   "cell_type": "markdown",
   "metadata": {},
   "source": [
    "Загружаем данные"
   ]
  },
  {
   "cell_type": "code",
   "execution_count": 3,
   "metadata": {},
   "outputs": [],
   "source": [
    "region_1 = pd.read_csv('/datasets/geo_data_0.csv')\n",
    "region_2 = pd.read_csv('/datasets/geo_data_1.csv')\n",
    "region_3 = pd.read_csv('/datasets/geo_data_2.csv')"
   ]
  },
  {
   "cell_type": "code",
   "execution_count": 4,
   "metadata": {},
   "outputs": [
    {
     "data": {
      "text/html": [
       "<div>\n",
       "<style scoped>\n",
       "    .dataframe tbody tr th:only-of-type {\n",
       "        vertical-align: middle;\n",
       "    }\n",
       "\n",
       "    .dataframe tbody tr th {\n",
       "        vertical-align: top;\n",
       "    }\n",
       "\n",
       "    .dataframe thead th {\n",
       "        text-align: right;\n",
       "    }\n",
       "</style>\n",
       "<table border=\"1\" class=\"dataframe\">\n",
       "  <thead>\n",
       "    <tr style=\"text-align: right;\">\n",
       "      <th></th>\n",
       "      <th>id</th>\n",
       "      <th>f0</th>\n",
       "      <th>f1</th>\n",
       "      <th>f2</th>\n",
       "      <th>product</th>\n",
       "    </tr>\n",
       "  </thead>\n",
       "  <tbody>\n",
       "    <tr>\n",
       "      <th>0</th>\n",
       "      <td>txEyH</td>\n",
       "      <td>0.705745</td>\n",
       "      <td>-0.497823</td>\n",
       "      <td>1.221170</td>\n",
       "      <td>105.280062</td>\n",
       "    </tr>\n",
       "    <tr>\n",
       "      <th>1</th>\n",
       "      <td>2acmU</td>\n",
       "      <td>1.334711</td>\n",
       "      <td>-0.340164</td>\n",
       "      <td>4.365080</td>\n",
       "      <td>73.037750</td>\n",
       "    </tr>\n",
       "    <tr>\n",
       "      <th>2</th>\n",
       "      <td>409Wp</td>\n",
       "      <td>1.022732</td>\n",
       "      <td>0.151990</td>\n",
       "      <td>1.419926</td>\n",
       "      <td>85.265647</td>\n",
       "    </tr>\n",
       "    <tr>\n",
       "      <th>3</th>\n",
       "      <td>iJLyR</td>\n",
       "      <td>-0.032172</td>\n",
       "      <td>0.139033</td>\n",
       "      <td>2.978566</td>\n",
       "      <td>168.620776</td>\n",
       "    </tr>\n",
       "    <tr>\n",
       "      <th>4</th>\n",
       "      <td>Xdl7t</td>\n",
       "      <td>1.988431</td>\n",
       "      <td>0.155413</td>\n",
       "      <td>4.751769</td>\n",
       "      <td>154.036647</td>\n",
       "    </tr>\n",
       "  </tbody>\n",
       "</table>\n",
       "</div>"
      ],
      "text/plain": [
       "      id        f0        f1        f2     product\n",
       "0  txEyH  0.705745 -0.497823  1.221170  105.280062\n",
       "1  2acmU  1.334711 -0.340164  4.365080   73.037750\n",
       "2  409Wp  1.022732  0.151990  1.419926   85.265647\n",
       "3  iJLyR -0.032172  0.139033  2.978566  168.620776\n",
       "4  Xdl7t  1.988431  0.155413  4.751769  154.036647"
      ]
     },
     "execution_count": 4,
     "metadata": {},
     "output_type": "execute_result"
    }
   ],
   "source": [
    "region_1.head()"
   ]
  },
  {
   "cell_type": "code",
   "execution_count": 5,
   "metadata": {},
   "outputs": [
    {
     "data": {
      "text/html": [
       "<div>\n",
       "<style scoped>\n",
       "    .dataframe tbody tr th:only-of-type {\n",
       "        vertical-align: middle;\n",
       "    }\n",
       "\n",
       "    .dataframe tbody tr th {\n",
       "        vertical-align: top;\n",
       "    }\n",
       "\n",
       "    .dataframe thead th {\n",
       "        text-align: right;\n",
       "    }\n",
       "</style>\n",
       "<table border=\"1\" class=\"dataframe\">\n",
       "  <thead>\n",
       "    <tr style=\"text-align: right;\">\n",
       "      <th></th>\n",
       "      <th>id</th>\n",
       "      <th>f0</th>\n",
       "      <th>f1</th>\n",
       "      <th>f2</th>\n",
       "      <th>product</th>\n",
       "    </tr>\n",
       "  </thead>\n",
       "  <tbody>\n",
       "    <tr>\n",
       "      <th>0</th>\n",
       "      <td>kBEdx</td>\n",
       "      <td>-15.001348</td>\n",
       "      <td>-8.276000</td>\n",
       "      <td>-0.005876</td>\n",
       "      <td>3.179103</td>\n",
       "    </tr>\n",
       "    <tr>\n",
       "      <th>1</th>\n",
       "      <td>62mP7</td>\n",
       "      <td>14.272088</td>\n",
       "      <td>-3.475083</td>\n",
       "      <td>0.999183</td>\n",
       "      <td>26.953261</td>\n",
       "    </tr>\n",
       "    <tr>\n",
       "      <th>2</th>\n",
       "      <td>vyE1P</td>\n",
       "      <td>6.263187</td>\n",
       "      <td>-5.948386</td>\n",
       "      <td>5.001160</td>\n",
       "      <td>134.766305</td>\n",
       "    </tr>\n",
       "    <tr>\n",
       "      <th>3</th>\n",
       "      <td>KcrkZ</td>\n",
       "      <td>-13.081196</td>\n",
       "      <td>-11.506057</td>\n",
       "      <td>4.999415</td>\n",
       "      <td>137.945408</td>\n",
       "    </tr>\n",
       "    <tr>\n",
       "      <th>4</th>\n",
       "      <td>AHL4O</td>\n",
       "      <td>12.702195</td>\n",
       "      <td>-8.147433</td>\n",
       "      <td>5.004363</td>\n",
       "      <td>134.766305</td>\n",
       "    </tr>\n",
       "  </tbody>\n",
       "</table>\n",
       "</div>"
      ],
      "text/plain": [
       "      id         f0         f1        f2     product\n",
       "0  kBEdx -15.001348  -8.276000 -0.005876    3.179103\n",
       "1  62mP7  14.272088  -3.475083  0.999183   26.953261\n",
       "2  vyE1P   6.263187  -5.948386  5.001160  134.766305\n",
       "3  KcrkZ -13.081196 -11.506057  4.999415  137.945408\n",
       "4  AHL4O  12.702195  -8.147433  5.004363  134.766305"
      ]
     },
     "execution_count": 5,
     "metadata": {},
     "output_type": "execute_result"
    }
   ],
   "source": [
    "region_2.head()"
   ]
  },
  {
   "cell_type": "code",
   "execution_count": 6,
   "metadata": {},
   "outputs": [
    {
     "data": {
      "text/html": [
       "<div>\n",
       "<style scoped>\n",
       "    .dataframe tbody tr th:only-of-type {\n",
       "        vertical-align: middle;\n",
       "    }\n",
       "\n",
       "    .dataframe tbody tr th {\n",
       "        vertical-align: top;\n",
       "    }\n",
       "\n",
       "    .dataframe thead th {\n",
       "        text-align: right;\n",
       "    }\n",
       "</style>\n",
       "<table border=\"1\" class=\"dataframe\">\n",
       "  <thead>\n",
       "    <tr style=\"text-align: right;\">\n",
       "      <th></th>\n",
       "      <th>id</th>\n",
       "      <th>f0</th>\n",
       "      <th>f1</th>\n",
       "      <th>f2</th>\n",
       "      <th>product</th>\n",
       "    </tr>\n",
       "  </thead>\n",
       "  <tbody>\n",
       "    <tr>\n",
       "      <th>0</th>\n",
       "      <td>fwXo0</td>\n",
       "      <td>-1.146987</td>\n",
       "      <td>0.963328</td>\n",
       "      <td>-0.828965</td>\n",
       "      <td>27.758673</td>\n",
       "    </tr>\n",
       "    <tr>\n",
       "      <th>1</th>\n",
       "      <td>WJtFt</td>\n",
       "      <td>0.262778</td>\n",
       "      <td>0.269839</td>\n",
       "      <td>-2.530187</td>\n",
       "      <td>56.069697</td>\n",
       "    </tr>\n",
       "    <tr>\n",
       "      <th>2</th>\n",
       "      <td>ovLUW</td>\n",
       "      <td>0.194587</td>\n",
       "      <td>0.289035</td>\n",
       "      <td>-5.586433</td>\n",
       "      <td>62.871910</td>\n",
       "    </tr>\n",
       "    <tr>\n",
       "      <th>3</th>\n",
       "      <td>q6cA6</td>\n",
       "      <td>2.236060</td>\n",
       "      <td>-0.553760</td>\n",
       "      <td>0.930038</td>\n",
       "      <td>114.572842</td>\n",
       "    </tr>\n",
       "    <tr>\n",
       "      <th>4</th>\n",
       "      <td>WPMUX</td>\n",
       "      <td>-0.515993</td>\n",
       "      <td>1.716266</td>\n",
       "      <td>5.899011</td>\n",
       "      <td>149.600746</td>\n",
       "    </tr>\n",
       "  </tbody>\n",
       "</table>\n",
       "</div>"
      ],
      "text/plain": [
       "      id        f0        f1        f2     product\n",
       "0  fwXo0 -1.146987  0.963328 -0.828965   27.758673\n",
       "1  WJtFt  0.262778  0.269839 -2.530187   56.069697\n",
       "2  ovLUW  0.194587  0.289035 -5.586433   62.871910\n",
       "3  q6cA6  2.236060 -0.553760  0.930038  114.572842\n",
       "4  WPMUX -0.515993  1.716266  5.899011  149.600746"
      ]
     },
     "execution_count": 6,
     "metadata": {},
     "output_type": "execute_result"
    }
   ],
   "source": [
    "region_3.head()"
   ]
  },
  {
   "cell_type": "markdown",
   "metadata": {},
   "source": [
    "Все столбцы имеют корректное название. Изучим общую информацию о датасетах"
   ]
  },
  {
   "cell_type": "code",
   "execution_count": 7,
   "metadata": {},
   "outputs": [
    {
     "name": "stdout",
     "output_type": "stream",
     "text": [
      "<class 'pandas.core.frame.DataFrame'>\n",
      "RangeIndex: 100000 entries, 0 to 99999\n",
      "Data columns (total 5 columns):\n",
      " #   Column   Non-Null Count   Dtype  \n",
      "---  ------   --------------   -----  \n",
      " 0   id       100000 non-null  object \n",
      " 1   f0       100000 non-null  float64\n",
      " 2   f1       100000 non-null  float64\n",
      " 3   f2       100000 non-null  float64\n",
      " 4   product  100000 non-null  float64\n",
      "dtypes: float64(4), object(1)\n",
      "memory usage: 3.8+ MB\n"
     ]
    }
   ],
   "source": [
    "region_1.info()"
   ]
  },
  {
   "cell_type": "markdown",
   "metadata": {},
   "source": [
    "В датасете с первым регионом 100000 строк, пропусков нет. Все столбцы имеют корректный тип данных"
   ]
  },
  {
   "cell_type": "code",
   "execution_count": 8,
   "metadata": {},
   "outputs": [
    {
     "name": "stdout",
     "output_type": "stream",
     "text": [
      "<class 'pandas.core.frame.DataFrame'>\n",
      "RangeIndex: 100000 entries, 0 to 99999\n",
      "Data columns (total 5 columns):\n",
      " #   Column   Non-Null Count   Dtype  \n",
      "---  ------   --------------   -----  \n",
      " 0   id       100000 non-null  object \n",
      " 1   f0       100000 non-null  float64\n",
      " 2   f1       100000 non-null  float64\n",
      " 3   f2       100000 non-null  float64\n",
      " 4   product  100000 non-null  float64\n",
      "dtypes: float64(4), object(1)\n",
      "memory usage: 3.8+ MB\n"
     ]
    }
   ],
   "source": [
    "region_2.info()"
   ]
  },
  {
   "cell_type": "markdown",
   "metadata": {},
   "source": [
    "Для второго региона ситуация аналогична с первым регионом"
   ]
  },
  {
   "cell_type": "code",
   "execution_count": 9,
   "metadata": {},
   "outputs": [
    {
     "name": "stdout",
     "output_type": "stream",
     "text": [
      "<class 'pandas.core.frame.DataFrame'>\n",
      "RangeIndex: 100000 entries, 0 to 99999\n",
      "Data columns (total 5 columns):\n",
      " #   Column   Non-Null Count   Dtype  \n",
      "---  ------   --------------   -----  \n",
      " 0   id       100000 non-null  object \n",
      " 1   f0       100000 non-null  float64\n",
      " 2   f1       100000 non-null  float64\n",
      " 3   f2       100000 non-null  float64\n",
      " 4   product  100000 non-null  float64\n",
      "dtypes: float64(4), object(1)\n",
      "memory usage: 3.8+ MB\n"
     ]
    }
   ],
   "source": [
    "region_3.info()"
   ]
  },
  {
   "cell_type": "markdown",
   "metadata": {},
   "source": [
    "Здесь тоже все в порядке. Перейдем к предобработке данных. Для начала проверим наличие явных дубликатов "
   ]
  },
  {
   "cell_type": "code",
   "execution_count": 10,
   "metadata": {},
   "outputs": [
    {
     "data": {
      "text/plain": [
       "0"
      ]
     },
     "execution_count": 10,
     "metadata": {},
     "output_type": "execute_result"
    }
   ],
   "source": [
    "region_1.duplicated().sum()"
   ]
  },
  {
   "cell_type": "code",
   "execution_count": 11,
   "metadata": {},
   "outputs": [
    {
     "data": {
      "text/plain": [
       "0"
      ]
     },
     "execution_count": 11,
     "metadata": {},
     "output_type": "execute_result"
    }
   ],
   "source": [
    "region_2.duplicated().sum()"
   ]
  },
  {
   "cell_type": "code",
   "execution_count": 12,
   "metadata": {},
   "outputs": [
    {
     "data": {
      "text/plain": [
       "0"
      ]
     },
     "execution_count": 12,
     "metadata": {},
     "output_type": "execute_result"
    }
   ],
   "source": [
    "region_3.duplicated().sum()"
   ]
  },
  {
   "cell_type": "markdown",
   "metadata": {},
   "source": [
    "Явных дубликатов нет. Проверим на наличие неявных дубликатов, таковые могут храниться только в столбце с id"
   ]
  },
  {
   "cell_type": "code",
   "execution_count": 13,
   "metadata": {},
   "outputs": [
    {
     "data": {
      "text/html": [
       "<div>\n",
       "<style scoped>\n",
       "    .dataframe tbody tr th:only-of-type {\n",
       "        vertical-align: middle;\n",
       "    }\n",
       "\n",
       "    .dataframe tbody tr th {\n",
       "        vertical-align: top;\n",
       "    }\n",
       "\n",
       "    .dataframe thead th {\n",
       "        text-align: right;\n",
       "    }\n",
       "</style>\n",
       "<table border=\"1\" class=\"dataframe\">\n",
       "  <thead>\n",
       "    <tr style=\"text-align: right;\">\n",
       "      <th></th>\n",
       "      <th>id</th>\n",
       "      <th>f0</th>\n",
       "      <th>f1</th>\n",
       "      <th>f2</th>\n",
       "      <th>product</th>\n",
       "    </tr>\n",
       "  </thead>\n",
       "  <tbody>\n",
       "    <tr>\n",
       "      <th>66136</th>\n",
       "      <td>74z30</td>\n",
       "      <td>1.084962</td>\n",
       "      <td>-0.312358</td>\n",
       "      <td>6.990771</td>\n",
       "      <td>127.643327</td>\n",
       "    </tr>\n",
       "    <tr>\n",
       "      <th>64022</th>\n",
       "      <td>74z30</td>\n",
       "      <td>0.741456</td>\n",
       "      <td>0.459229</td>\n",
       "      <td>5.153109</td>\n",
       "      <td>140.771492</td>\n",
       "    </tr>\n",
       "    <tr>\n",
       "      <th>51970</th>\n",
       "      <td>A5aEY</td>\n",
       "      <td>-0.180335</td>\n",
       "      <td>0.935548</td>\n",
       "      <td>-2.094773</td>\n",
       "      <td>33.020205</td>\n",
       "    </tr>\n",
       "    <tr>\n",
       "      <th>3389</th>\n",
       "      <td>A5aEY</td>\n",
       "      <td>-0.039949</td>\n",
       "      <td>0.156872</td>\n",
       "      <td>0.209861</td>\n",
       "      <td>89.249364</td>\n",
       "    </tr>\n",
       "    <tr>\n",
       "      <th>69163</th>\n",
       "      <td>AGS9W</td>\n",
       "      <td>-0.933795</td>\n",
       "      <td>0.116194</td>\n",
       "      <td>-3.655896</td>\n",
       "      <td>19.230453</td>\n",
       "    </tr>\n",
       "    <tr>\n",
       "      <th>42529</th>\n",
       "      <td>AGS9W</td>\n",
       "      <td>1.454747</td>\n",
       "      <td>-0.479651</td>\n",
       "      <td>0.683380</td>\n",
       "      <td>126.370504</td>\n",
       "    </tr>\n",
       "    <tr>\n",
       "      <th>931</th>\n",
       "      <td>HZww2</td>\n",
       "      <td>0.755284</td>\n",
       "      <td>0.368511</td>\n",
       "      <td>1.863211</td>\n",
       "      <td>30.681774</td>\n",
       "    </tr>\n",
       "    <tr>\n",
       "      <th>7530</th>\n",
       "      <td>HZww2</td>\n",
       "      <td>1.061194</td>\n",
       "      <td>-0.373969</td>\n",
       "      <td>10.430210</td>\n",
       "      <td>158.828695</td>\n",
       "    </tr>\n",
       "    <tr>\n",
       "      <th>63593</th>\n",
       "      <td>QcMuo</td>\n",
       "      <td>0.635635</td>\n",
       "      <td>-0.473422</td>\n",
       "      <td>0.862670</td>\n",
       "      <td>64.578675</td>\n",
       "    </tr>\n",
       "    <tr>\n",
       "      <th>1949</th>\n",
       "      <td>QcMuo</td>\n",
       "      <td>0.506563</td>\n",
       "      <td>-0.323775</td>\n",
       "      <td>-2.215583</td>\n",
       "      <td>75.496502</td>\n",
       "    </tr>\n",
       "    <tr>\n",
       "      <th>75715</th>\n",
       "      <td>Tdehs</td>\n",
       "      <td>0.112079</td>\n",
       "      <td>0.430296</td>\n",
       "      <td>3.218993</td>\n",
       "      <td>60.964018</td>\n",
       "    </tr>\n",
       "    <tr>\n",
       "      <th>21426</th>\n",
       "      <td>Tdehs</td>\n",
       "      <td>0.829407</td>\n",
       "      <td>0.298807</td>\n",
       "      <td>-0.049563</td>\n",
       "      <td>96.035308</td>\n",
       "    </tr>\n",
       "    <tr>\n",
       "      <th>92341</th>\n",
       "      <td>TtcGQ</td>\n",
       "      <td>0.110711</td>\n",
       "      <td>1.022689</td>\n",
       "      <td>0.911381</td>\n",
       "      <td>101.318008</td>\n",
       "    </tr>\n",
       "    <tr>\n",
       "      <th>60140</th>\n",
       "      <td>TtcGQ</td>\n",
       "      <td>0.569276</td>\n",
       "      <td>-0.104876</td>\n",
       "      <td>6.440215</td>\n",
       "      <td>85.350186</td>\n",
       "    </tr>\n",
       "    <tr>\n",
       "      <th>89582</th>\n",
       "      <td>bsk9y</td>\n",
       "      <td>0.398908</td>\n",
       "      <td>-0.400253</td>\n",
       "      <td>10.122376</td>\n",
       "      <td>163.433078</td>\n",
       "    </tr>\n",
       "    <tr>\n",
       "      <th>97785</th>\n",
       "      <td>bsk9y</td>\n",
       "      <td>0.378429</td>\n",
       "      <td>0.005837</td>\n",
       "      <td>0.160827</td>\n",
       "      <td>160.637302</td>\n",
       "    </tr>\n",
       "    <tr>\n",
       "      <th>41724</th>\n",
       "      <td>bxg6G</td>\n",
       "      <td>-0.823752</td>\n",
       "      <td>0.546319</td>\n",
       "      <td>3.630479</td>\n",
       "      <td>93.007798</td>\n",
       "    </tr>\n",
       "    <tr>\n",
       "      <th>1364</th>\n",
       "      <td>bxg6G</td>\n",
       "      <td>0.411645</td>\n",
       "      <td>0.856830</td>\n",
       "      <td>-3.653440</td>\n",
       "      <td>73.604260</td>\n",
       "    </tr>\n",
       "    <tr>\n",
       "      <th>16633</th>\n",
       "      <td>fiKDv</td>\n",
       "      <td>0.157341</td>\n",
       "      <td>1.028359</td>\n",
       "      <td>5.585586</td>\n",
       "      <td>95.817889</td>\n",
       "    </tr>\n",
       "    <tr>\n",
       "      <th>90815</th>\n",
       "      <td>fiKDv</td>\n",
       "      <td>0.049883</td>\n",
       "      <td>0.841313</td>\n",
       "      <td>6.394613</td>\n",
       "      <td>137.346586</td>\n",
       "    </tr>\n",
       "  </tbody>\n",
       "</table>\n",
       "</div>"
      ],
      "text/plain": [
       "          id        f0        f1         f2     product\n",
       "66136  74z30  1.084962 -0.312358   6.990771  127.643327\n",
       "64022  74z30  0.741456  0.459229   5.153109  140.771492\n",
       "51970  A5aEY -0.180335  0.935548  -2.094773   33.020205\n",
       "3389   A5aEY -0.039949  0.156872   0.209861   89.249364\n",
       "69163  AGS9W -0.933795  0.116194  -3.655896   19.230453\n",
       "42529  AGS9W  1.454747 -0.479651   0.683380  126.370504\n",
       "931    HZww2  0.755284  0.368511   1.863211   30.681774\n",
       "7530   HZww2  1.061194 -0.373969  10.430210  158.828695\n",
       "63593  QcMuo  0.635635 -0.473422   0.862670   64.578675\n",
       "1949   QcMuo  0.506563 -0.323775  -2.215583   75.496502\n",
       "75715  Tdehs  0.112079  0.430296   3.218993   60.964018\n",
       "21426  Tdehs  0.829407  0.298807  -0.049563   96.035308\n",
       "92341  TtcGQ  0.110711  1.022689   0.911381  101.318008\n",
       "60140  TtcGQ  0.569276 -0.104876   6.440215   85.350186\n",
       "89582  bsk9y  0.398908 -0.400253  10.122376  163.433078\n",
       "97785  bsk9y  0.378429  0.005837   0.160827  160.637302\n",
       "41724  bxg6G -0.823752  0.546319   3.630479   93.007798\n",
       "1364   bxg6G  0.411645  0.856830  -3.653440   73.604260\n",
       "16633  fiKDv  0.157341  1.028359   5.585586   95.817889\n",
       "90815  fiKDv  0.049883  0.841313   6.394613  137.346586"
      ]
     },
     "execution_count": 13,
     "metadata": {},
     "output_type": "execute_result"
    }
   ],
   "source": [
    "region_1[region_1.duplicated(subset='id', keep=False)].sort_values(by='id')"
   ]
  },
  {
   "cell_type": "markdown",
   "metadata": {},
   "source": [
    "Видим несколько дубликатов, возможно они появились в связи с тем, что на данных месторождениях велись новые измерения. Удалим дубликаты, оставив первое вхождение id. Можем удалить, так как они составляют малую часть от общей выборки"
   ]
  },
  {
   "cell_type": "code",
   "execution_count": 14,
   "metadata": {},
   "outputs": [],
   "source": [
    "region_1 = region_1.drop_duplicates(subset='id', keep='first')"
   ]
  },
  {
   "cell_type": "code",
   "execution_count": 15,
   "metadata": {},
   "outputs": [
    {
     "data": {
      "text/html": [
       "<div>\n",
       "<style scoped>\n",
       "    .dataframe tbody tr th:only-of-type {\n",
       "        vertical-align: middle;\n",
       "    }\n",
       "\n",
       "    .dataframe tbody tr th {\n",
       "        vertical-align: top;\n",
       "    }\n",
       "\n",
       "    .dataframe thead th {\n",
       "        text-align: right;\n",
       "    }\n",
       "</style>\n",
       "<table border=\"1\" class=\"dataframe\">\n",
       "  <thead>\n",
       "    <tr style=\"text-align: right;\">\n",
       "      <th></th>\n",
       "      <th>id</th>\n",
       "      <th>f0</th>\n",
       "      <th>f1</th>\n",
       "      <th>f2</th>\n",
       "      <th>product</th>\n",
       "    </tr>\n",
       "  </thead>\n",
       "  <tbody>\n",
       "  </tbody>\n",
       "</table>\n",
       "</div>"
      ],
      "text/plain": [
       "Empty DataFrame\n",
       "Columns: [id, f0, f1, f2, product]\n",
       "Index: []"
      ]
     },
     "execution_count": 15,
     "metadata": {},
     "output_type": "execute_result"
    }
   ],
   "source": [
    "region_1[region_1.duplicated(subset='id', keep=False)].sort_values(by='id')"
   ]
  },
  {
   "cell_type": "markdown",
   "metadata": {},
   "source": [
    "Проведем аналогичную работу для двух других регионов"
   ]
  },
  {
   "cell_type": "code",
   "execution_count": 16,
   "metadata": {},
   "outputs": [
    {
     "data": {
      "text/html": [
       "<div>\n",
       "<style scoped>\n",
       "    .dataframe tbody tr th:only-of-type {\n",
       "        vertical-align: middle;\n",
       "    }\n",
       "\n",
       "    .dataframe tbody tr th {\n",
       "        vertical-align: top;\n",
       "    }\n",
       "\n",
       "    .dataframe thead th {\n",
       "        text-align: right;\n",
       "    }\n",
       "</style>\n",
       "<table border=\"1\" class=\"dataframe\">\n",
       "  <thead>\n",
       "    <tr style=\"text-align: right;\">\n",
       "      <th></th>\n",
       "      <th>id</th>\n",
       "      <th>f0</th>\n",
       "      <th>f1</th>\n",
       "      <th>f2</th>\n",
       "      <th>product</th>\n",
       "    </tr>\n",
       "  </thead>\n",
       "  <tbody>\n",
       "    <tr>\n",
       "      <th>5849</th>\n",
       "      <td>5ltQ6</td>\n",
       "      <td>-3.435401</td>\n",
       "      <td>-12.296043</td>\n",
       "      <td>1.999796</td>\n",
       "      <td>57.085625</td>\n",
       "    </tr>\n",
       "    <tr>\n",
       "      <th>84461</th>\n",
       "      <td>5ltQ6</td>\n",
       "      <td>18.213839</td>\n",
       "      <td>2.191999</td>\n",
       "      <td>3.993869</td>\n",
       "      <td>107.813044</td>\n",
       "    </tr>\n",
       "    <tr>\n",
       "      <th>1305</th>\n",
       "      <td>LHZR0</td>\n",
       "      <td>11.170835</td>\n",
       "      <td>-1.945066</td>\n",
       "      <td>3.002872</td>\n",
       "      <td>80.859783</td>\n",
       "    </tr>\n",
       "    <tr>\n",
       "      <th>41906</th>\n",
       "      <td>LHZR0</td>\n",
       "      <td>-8.989672</td>\n",
       "      <td>-4.286607</td>\n",
       "      <td>2.009139</td>\n",
       "      <td>57.085625</td>\n",
       "    </tr>\n",
       "    <tr>\n",
       "      <th>2721</th>\n",
       "      <td>bfPNe</td>\n",
       "      <td>-9.494442</td>\n",
       "      <td>-5.463692</td>\n",
       "      <td>4.006042</td>\n",
       "      <td>110.992147</td>\n",
       "    </tr>\n",
       "    <tr>\n",
       "      <th>82178</th>\n",
       "      <td>bfPNe</td>\n",
       "      <td>-6.202799</td>\n",
       "      <td>-4.820045</td>\n",
       "      <td>2.995107</td>\n",
       "      <td>84.038886</td>\n",
       "    </tr>\n",
       "    <tr>\n",
       "      <th>47591</th>\n",
       "      <td>wt4Uk</td>\n",
       "      <td>-9.091098</td>\n",
       "      <td>-8.109279</td>\n",
       "      <td>-0.002314</td>\n",
       "      <td>3.179103</td>\n",
       "    </tr>\n",
       "    <tr>\n",
       "      <th>82873</th>\n",
       "      <td>wt4Uk</td>\n",
       "      <td>10.259972</td>\n",
       "      <td>-9.376355</td>\n",
       "      <td>4.994297</td>\n",
       "      <td>134.766305</td>\n",
       "    </tr>\n",
       "  </tbody>\n",
       "</table>\n",
       "</div>"
      ],
      "text/plain": [
       "          id         f0         f1        f2     product\n",
       "5849   5ltQ6  -3.435401 -12.296043  1.999796   57.085625\n",
       "84461  5ltQ6  18.213839   2.191999  3.993869  107.813044\n",
       "1305   LHZR0  11.170835  -1.945066  3.002872   80.859783\n",
       "41906  LHZR0  -8.989672  -4.286607  2.009139   57.085625\n",
       "2721   bfPNe  -9.494442  -5.463692  4.006042  110.992147\n",
       "82178  bfPNe  -6.202799  -4.820045  2.995107   84.038886\n",
       "47591  wt4Uk  -9.091098  -8.109279 -0.002314    3.179103\n",
       "82873  wt4Uk  10.259972  -9.376355  4.994297  134.766305"
      ]
     },
     "execution_count": 16,
     "metadata": {},
     "output_type": "execute_result"
    }
   ],
   "source": [
    "region_2[region_2.duplicated(subset='id', keep=False)].sort_values(by='id')"
   ]
  },
  {
   "cell_type": "code",
   "execution_count": 17,
   "metadata": {},
   "outputs": [],
   "source": [
    "region_2 = region_2.drop_duplicates(subset='id', keep='first')"
   ]
  },
  {
   "cell_type": "code",
   "execution_count": 18,
   "metadata": {},
   "outputs": [
    {
     "data": {
      "text/html": [
       "<div>\n",
       "<style scoped>\n",
       "    .dataframe tbody tr th:only-of-type {\n",
       "        vertical-align: middle;\n",
       "    }\n",
       "\n",
       "    .dataframe tbody tr th {\n",
       "        vertical-align: top;\n",
       "    }\n",
       "\n",
       "    .dataframe thead th {\n",
       "        text-align: right;\n",
       "    }\n",
       "</style>\n",
       "<table border=\"1\" class=\"dataframe\">\n",
       "  <thead>\n",
       "    <tr style=\"text-align: right;\">\n",
       "      <th></th>\n",
       "      <th>id</th>\n",
       "      <th>f0</th>\n",
       "      <th>f1</th>\n",
       "      <th>f2</th>\n",
       "      <th>product</th>\n",
       "    </tr>\n",
       "  </thead>\n",
       "  <tbody>\n",
       "    <tr>\n",
       "      <th>45404</th>\n",
       "      <td>KUPhW</td>\n",
       "      <td>0.231846</td>\n",
       "      <td>-1.698941</td>\n",
       "      <td>4.990775</td>\n",
       "      <td>11.716299</td>\n",
       "    </tr>\n",
       "    <tr>\n",
       "      <th>55967</th>\n",
       "      <td>KUPhW</td>\n",
       "      <td>1.211150</td>\n",
       "      <td>3.176408</td>\n",
       "      <td>5.543540</td>\n",
       "      <td>132.831802</td>\n",
       "    </tr>\n",
       "    <tr>\n",
       "      <th>11449</th>\n",
       "      <td>VF7Jo</td>\n",
       "      <td>2.122656</td>\n",
       "      <td>-0.858275</td>\n",
       "      <td>5.746001</td>\n",
       "      <td>181.716817</td>\n",
       "    </tr>\n",
       "    <tr>\n",
       "      <th>49564</th>\n",
       "      <td>VF7Jo</td>\n",
       "      <td>-0.883115</td>\n",
       "      <td>0.560537</td>\n",
       "      <td>0.723601</td>\n",
       "      <td>136.233420</td>\n",
       "    </tr>\n",
       "    <tr>\n",
       "      <th>44378</th>\n",
       "      <td>Vcm5J</td>\n",
       "      <td>-1.229484</td>\n",
       "      <td>-2.439204</td>\n",
       "      <td>1.222909</td>\n",
       "      <td>137.968290</td>\n",
       "    </tr>\n",
       "    <tr>\n",
       "      <th>95090</th>\n",
       "      <td>Vcm5J</td>\n",
       "      <td>2.587702</td>\n",
       "      <td>1.986875</td>\n",
       "      <td>2.482245</td>\n",
       "      <td>92.327572</td>\n",
       "    </tr>\n",
       "    <tr>\n",
       "      <th>28039</th>\n",
       "      <td>xCHr8</td>\n",
       "      <td>1.633027</td>\n",
       "      <td>0.368135</td>\n",
       "      <td>-2.378367</td>\n",
       "      <td>6.120525</td>\n",
       "    </tr>\n",
       "    <tr>\n",
       "      <th>43233</th>\n",
       "      <td>xCHr8</td>\n",
       "      <td>-0.847066</td>\n",
       "      <td>2.101796</td>\n",
       "      <td>5.597130</td>\n",
       "      <td>184.388641</td>\n",
       "    </tr>\n",
       "  </tbody>\n",
       "</table>\n",
       "</div>"
      ],
      "text/plain": [
       "          id        f0        f1        f2     product\n",
       "45404  KUPhW  0.231846 -1.698941  4.990775   11.716299\n",
       "55967  KUPhW  1.211150  3.176408  5.543540  132.831802\n",
       "11449  VF7Jo  2.122656 -0.858275  5.746001  181.716817\n",
       "49564  VF7Jo -0.883115  0.560537  0.723601  136.233420\n",
       "44378  Vcm5J -1.229484 -2.439204  1.222909  137.968290\n",
       "95090  Vcm5J  2.587702  1.986875  2.482245   92.327572\n",
       "28039  xCHr8  1.633027  0.368135 -2.378367    6.120525\n",
       "43233  xCHr8 -0.847066  2.101796  5.597130  184.388641"
      ]
     },
     "execution_count": 18,
     "metadata": {},
     "output_type": "execute_result"
    }
   ],
   "source": [
    "region_3[region_3.duplicated(subset='id', keep=False)].sort_values(by='id')"
   ]
  },
  {
   "cell_type": "code",
   "execution_count": 19,
   "metadata": {},
   "outputs": [],
   "source": [
    "region_3 = region_3.drop_duplicates(subset='id', keep='first')"
   ]
  },
  {
   "cell_type": "markdown",
   "metadata": {},
   "source": [
    "Как было отмечено выше, все столбцы имеют корректное название и корректный тип данных. Так же, отсутствуют пропуски, поэтому перейдем к исследовательскому анализу данных"
   ]
  },
  {
   "cell_type": "code",
   "execution_count": 20,
   "metadata": {},
   "outputs": [
    {
     "data": {
      "image/png": "[encoded data removed]",
      "text/plain": [
       "<Figure size 1080x504 with 1 Axes>"
      ]
     },
     "metadata": {
      "needs_background": "light"
     },
     "output_type": "display_data"
    }
   ],
   "source": [
    "region_1['product'].hist(figsize=(15, 7), bins=50, color='purple')\n",
    "plt.xlabel('Объем запасов')\n",
    "plt.ylabel('Число скважин')\n",
    "plt.title('Распределение скважин в 1 регионе по объему запасов')\n",
    "plt.show()"
   ]
  },
  {
   "cell_type": "markdown",
   "metadata": {},
   "source": [
    "Аномальных и выбивающихся значений в распределении не обнаружено. Значение запасов равное 0 должно быть возможным. Распределение чем-то смахивает на нормальное, но имеется несколько пиков внутри самого распределения"
   ]
  },
  {
   "cell_type": "code",
   "execution_count": 21,
   "metadata": {},
   "outputs": [
    {
     "data": {
      "text/plain": [
       "count    99990.000000\n",
       "mean        92.499684\n",
       "std         44.288304\n",
       "min          0.000000\n",
       "25%         56.497069\n",
       "50%         91.847928\n",
       "75%        128.563699\n",
       "max        185.364347\n",
       "Name: product, dtype: float64"
      ]
     },
     "execution_count": 21,
     "metadata": {},
     "output_type": "execute_result"
    }
   ],
   "source": [
    "region_1['product'].describe()"
   ]
  },
  {
   "cell_type": "markdown",
   "metadata": {},
   "source": [
    "Проделаем аналогичную работу для второго региона"
   ]
  },
  {
   "cell_type": "code",
   "execution_count": 22,
   "metadata": {},
   "outputs": [
    {
     "data": {
      "image/png": "[encoded data removed]",
      "text/plain": [
       "<Figure size 1080x504 with 1 Axes>"
      ]
     },
     "metadata": {
      "needs_background": "light"
     },
     "output_type": "display_data"
    }
   ],
   "source": [
    "region_2['product'].hist(figsize=(15, 7), bins=50, color='purple')\n",
    "plt.xlabel('Объем запасов')\n",
    "plt.ylabel('Число скважин')\n",
    "plt.title('Распределение скважин во 2 регионе по объему запасов')\n",
    "plt.show()"
   ]
  },
  {
   "cell_type": "markdown",
   "metadata": {},
   "source": [
    "Здесь наблюдаем четкие \"колонны\" по объемам. То есть все месторождения разделились на 6 категорий по объему запасов в них, такого не должно быть, учитывая, что запасы есть непрерывная переменная исходя из логики"
   ]
  },
  {
   "cell_type": "code",
   "execution_count": 23,
   "metadata": {},
   "outputs": [
    {
     "data": {
      "text/plain": [
       "count    99996.000000\n",
       "mean        68.823916\n",
       "std         45.944663\n",
       "min          0.000000\n",
       "25%         26.953261\n",
       "50%         57.085625\n",
       "75%        107.813044\n",
       "max        137.945408\n",
       "Name: product, dtype: float64"
      ]
     },
     "execution_count": 23,
     "metadata": {},
     "output_type": "execute_result"
    }
   ],
   "source": [
    "region_2['product'].describe()"
   ]
  },
  {
   "cell_type": "markdown",
   "metadata": {},
   "source": [
    "Смотрим для третьего региона"
   ]
  },
  {
   "cell_type": "code",
   "execution_count": 24,
   "metadata": {},
   "outputs": [
    {
     "data": {
      "image/png": "[encoded data removed]",
      "text/plain": [
       "<Figure size 1080x504 with 1 Axes>"
      ]
     },
     "metadata": {
      "needs_background": "light"
     },
     "output_type": "display_data"
    }
   ],
   "source": [
    "region_3['product'].hist(figsize=(15, 7), bins=50, color='purple')\n",
    "plt.xlabel('Объем запасов')\n",
    "plt.ylabel('Число скважин')\n",
    "plt.title('Распределение скважин в 3 регионе по объему запасов')\n",
    "plt.show()"
   ]
  },
  {
   "cell_type": "markdown",
   "metadata": {},
   "source": [
    "Здесь распределение имеет схожий вид с первым регионом. Аномальных значений и выбросов так же не обнаружено"
   ]
  },
  {
   "cell_type": "code",
   "execution_count": 25,
   "metadata": {},
   "outputs": [
    {
     "data": {
      "text/plain": [
       "count    99996.000000\n",
       "mean        94.998342\n",
       "std         44.749573\n",
       "min          0.000000\n",
       "25%         59.450028\n",
       "50%         94.925026\n",
       "75%        130.586815\n",
       "max        190.029838\n",
       "Name: product, dtype: float64"
      ]
     },
     "execution_count": 25,
     "metadata": {},
     "output_type": "execute_result"
    }
   ],
   "source": [
    "region_3['product'].describe()"
   ]
  },
  {
   "cell_type": "markdown",
   "metadata": {},
   "source": [
    "Проведем аналогичный анализ для параметров f0, f1, f2 во всех трех регионах"
   ]
  },
  {
   "cell_type": "code",
   "execution_count": 26,
   "metadata": {},
   "outputs": [
    {
     "data": {
      "image/png": "[encoded data removed]",
      "text/plain": [
       "<Figure size 1080x504 with 1 Axes>"
      ]
     },
     "metadata": {
      "needs_background": "light"
     },
     "output_type": "display_data"
    }
   ],
   "source": [
    "region_1['f0'].hist(figsize=(15, 7), bins=50, color='purple')\n",
    "plt.xlabel('f0')\n",
    "plt.ylabel('Число скважин')\n",
    "plt.title('Распределение скважин в 1 регионе по f0')\n",
    "plt.show()"
   ]
  },
  {
   "cell_type": "markdown",
   "metadata": {},
   "source": [
    "Распределение имеет 4 локальных пика и значения лежат симметрично близ f0 = 0.5"
   ]
  },
  {
   "cell_type": "code",
   "execution_count": 27,
   "metadata": {},
   "outputs": [
    {
     "data": {
      "image/png": "[encoded data removed]",
      "text/plain": [
       "<Figure size 1080x504 with 1 Axes>"
      ]
     },
     "metadata": {
      "needs_background": "light"
     },
     "output_type": "display_data"
    }
   ],
   "source": [
    "region_2['f0'].hist(figsize=(15, 7), bins=50, color='purple')\n",
    "plt.xlabel('f0')\n",
    "plt.ylabel('Число скважин')\n",
    "plt.title('Распределение скважин во 2 регионе по f0')\n",
    "plt.show()"
   ]
  },
  {
   "cell_type": "markdown",
   "metadata": {},
   "source": [
    "Здесь у распределения уже 2 пика и симметрия около f0 = 0"
   ]
  },
  {
   "cell_type": "code",
   "execution_count": 28,
   "metadata": {},
   "outputs": [
    {
     "data": {
      "image/png": "[encoded data removed]",
      "text/plain": [
       "<Figure size 1080x504 with 1 Axes>"
      ]
     },
     "metadata": {
      "needs_background": "light"
     },
     "output_type": "display_data"
    }
   ],
   "source": [
    "region_3['f0'].hist(figsize=(15, 7), bins=50, color='purple')\n",
    "plt.xlabel('f0')\n",
    "plt.ylabel('Число скважин')\n",
    "plt.title('Распределение скважин в 3 регионе по f0')\n",
    "plt.show()"
   ]
  },
  {
   "cell_type": "markdown",
   "metadata": {},
   "source": [
    "Здесь наблюдаем нормальное распределение с пиком в f0 = 0\n",
    "\n",
    "Перейдем к f1"
   ]
  },
  {
   "cell_type": "code",
   "execution_count": 29,
   "metadata": {},
   "outputs": [
    {
     "data": {
      "image/png": "[encoded data removed]",
      "text/plain": [
       "<Figure size 1080x504 with 1 Axes>"
      ]
     },
     "metadata": {
      "needs_background": "light"
     },
     "output_type": "display_data"
    }
   ],
   "source": [
    "region_1['f1'].hist(figsize=(15, 7), bins=50, color='purple')\n",
    "plt.xlabel('f1')\n",
    "plt.ylabel('Число скважин')\n",
    "plt.title('Распределение скважин в 1 регионе по f1')\n",
    "plt.show()"
   ]
  },
  {
   "cell_type": "markdown",
   "metadata": {},
   "source": [
    "Видим 3 локальных пика и симметрию относительно f1 примерно равного 0.25"
   ]
  },
  {
   "cell_type": "code",
   "execution_count": 30,
   "metadata": {},
   "outputs": [
    {
     "data": {
      "image/png": "[encoded data removed]",
      "text/plain": [
       "<Figure size 1080x504 with 1 Axes>"
      ]
     },
     "metadata": {
      "needs_background": "light"
     },
     "output_type": "display_data"
    }
   ],
   "source": [
    "region_2['f1'].hist(figsize=(15, 7), bins=50, color='purple')\n",
    "plt.xlabel('f1')\n",
    "plt.ylabel('Число скважин')\n",
    "plt.title('Распределение скважин во 2 регионе по f1')\n",
    "plt.show()"
   ]
  },
  {
   "cell_type": "markdown",
   "metadata": {},
   "source": [
    "Во втором регионе f1 распределено нормально вокруг значения -5"
   ]
  },
  {
   "cell_type": "code",
   "execution_count": 31,
   "metadata": {},
   "outputs": [
    {
     "data": {
      "image/png": "[encoded data removed]",
      "text/plain": [
       "<Figure size 1080x504 with 1 Axes>"
      ]
     },
     "metadata": {
      "needs_background": "light"
     },
     "output_type": "display_data"
    }
   ],
   "source": [
    "region_3['f1'].hist(figsize=(15, 7), bins=50, color='purple')\n",
    "plt.xlabel('f1')\n",
    "plt.ylabel('Число скважин')\n",
    "plt.title('Распределение скважин в 3 регионе по f1')\n",
    "plt.show()"
   ]
  },
  {
   "cell_type": "markdown",
   "metadata": {},
   "source": [
    "Здесь так же наблюдается нормальное распределение с пиком в точке f1 = 0 \n",
    "\n",
    "Теперь рассмотрим f2"
   ]
  },
  {
   "cell_type": "code",
   "execution_count": 32,
   "metadata": {},
   "outputs": [
    {
     "data": {
      "image/png": "[encoded data removed]",
      "text/plain": [
       "<Figure size 1080x504 with 1 Axes>"
      ]
     },
     "metadata": {
      "needs_background": "light"
     },
     "output_type": "display_data"
    }
   ],
   "source": [
    "region_1['f2'].hist(figsize=(15, 7), bins=50, color='purple')\n",
    "plt.xlabel('f2')\n",
    "plt.ylabel('Число скважин')\n",
    "plt.title('Распределение скважин в 1 регионе по f2')\n",
    "plt.show()"
   ]
  },
  {
   "cell_type": "markdown",
   "metadata": {},
   "source": [
    "Видим нормальное распределение с пиком в точке f2 = 2.5"
   ]
  },
  {
   "cell_type": "code",
   "execution_count": 33,
   "metadata": {},
   "outputs": [
    {
     "data": {
      "image/png": "[encoded data removed]",
      "text/plain": [
       "<Figure size 1080x504 with 1 Axes>"
      ]
     },
     "metadata": {
      "needs_background": "light"
     },
     "output_type": "display_data"
    }
   ],
   "source": [
    "region_2['f2'].hist(figsize=(15, 7), bins=50, color='purple')\n",
    "plt.xlabel('f2')\n",
    "plt.ylabel('Число скважин')\n",
    "plt.title('Распределение скважин во 2 регионе по f2')\n",
    "plt.show()"
   ]
  },
  {
   "cell_type": "markdown",
   "metadata": {},
   "source": [
    "Здесь снова видим 6 категорий по значению f2. Что-то подозрительное, можем предположить проблемы с оборудованием во втором регионе"
   ]
  },
  {
   "cell_type": "code",
   "execution_count": 34,
   "metadata": {},
   "outputs": [
    {
     "data": {
      "image/png": "[encoded data removed]",
      "text/plain": [
       "<Figure size 1080x504 with 1 Axes>"
      ]
     },
     "metadata": {
      "needs_background": "light"
     },
     "output_type": "display_data"
    }
   ],
   "source": [
    "region_3['f2'].hist(figsize=(15, 7), bins=50, color='purple')\n",
    "plt.xlabel('f2')\n",
    "plt.ylabel('Число скважин')\n",
    "plt.title('Распределение скважин в 3 регионе по f2')\n",
    "plt.show()"
   ]
  },
  {
   "cell_type": "markdown",
   "metadata": {},
   "source": [
    "Здесь снова нормальное распределение в точке f2 = 2.5\n",
    "\n",
    "Построим матрицу корреляций для каждого региона"
   ]
  },
  {
   "cell_type": "code",
   "execution_count": 35,
   "metadata": {},
   "outputs": [
    {
     "data": {
      "image/png": "[encoded data removed]",
      "text/plain": [
       "<Figure size 1080x504 with 2 Axes>"
      ]
     },
     "metadata": {
      "needs_background": "light"
     },
     "output_type": "display_data"
    }
   ],
   "source": [
    "interval_cols = ['f0', 'f1', 'f2', 'product']\n",
    "\n",
    "phik_corr = region_1.drop(columns=['id'], axis=1).phik_matrix(interval_cols=interval_cols)\n",
    "plt.figure(figsize=(15, 7))\n",
    "sns.heatmap(phik_corr, annot=True)\n",
    "plt.title('Матрица корреляции для первого региона')\n",
    "plt.show()"
   ]
  },
  {
   "cell_type": "markdown",
   "metadata": {},
   "source": [
    "Два признака считаются коллинеарными в том случае, если коэффициент корреляции между ними составляет 0.9. Таких признаков в первом регионе не обнаружено"
   ]
  },
  {
   "cell_type": "code",
   "execution_count": 36,
   "metadata": {},
   "outputs": [
    {
     "data": {
      "image/png": "[encoded data removed]",
      "text/plain": [
       "<Figure size 1080x504 with 2 Axes>"
      ]
     },
     "metadata": {
      "needs_background": "light"
     },
     "output_type": "display_data"
    }
   ],
   "source": [
    "interval_cols = ['f0', 'f1', 'f2', 'product']\n",
    "\n",
    "phik_corr = region_2.drop(columns=['id'], axis=1).phik_matrix(interval_cols=interval_cols)\n",
    "plt.figure(figsize=(15, 7))\n",
    "sns.heatmap(phik_corr, annot=True)\n",
    "plt.title('Матрица корреляции для второго региона')\n",
    "plt.show()"
   ]
  },
  {
   "cell_type": "markdown",
   "metadata": {},
   "source": [
    "Здесь видим почти полную корреляцию между признаком f2 и целевым. Однако, по заданию все из f важные, поэтому не можем удалить. Так же, у нас мало информации касательно того, какого рода признак f2, поэтому оставляем как есть. Максимум можем предположить, что это проблемы с оборудованием"
   ]
  },
  {
   "cell_type": "code",
   "execution_count": 37,
   "metadata": {},
   "outputs": [
    {
     "data": {
      "image/png": "[encoded data removed]",
      "text/plain": [
       "<Figure size 1080x504 with 2 Axes>"
      ]
     },
     "metadata": {
      "needs_background": "light"
     },
     "output_type": "display_data"
    }
   ],
   "source": [
    "interval_cols = ['f0', 'f1', 'f2', 'product']\n",
    "\n",
    "phik_corr = region_3.drop(columns=['id'], axis=1).phik_matrix(interval_cols=interval_cols)\n",
    "plt.figure(figsize=(15, 7))\n",
    "sns.heatmap(phik_corr, annot=True)\n",
    "plt.title('Матрица корреляции для третьего региона')\n",
    "plt.show()"
   ]
  },
  {
   "cell_type": "markdown",
   "metadata": {},
   "source": [
    "Здесь, как и в первом регионе, все в порядке\n",
    "\n",
    "На этом шаге мы загрузили данные трех регионов и изучили общую информацию о них. Обнаружили дубликаты по id в каждом из регионов и удалили их. Далее провели исследовательский анализ данных трех регионов по всем признакам и обнаружили большие проблемы в данных во втором регионе. Во-первых, один из признаков почти полностью коррелирует с целевым. Во-вторых, объемы запасов получились дискретными, хотя такого не может быть. Отсюда мы сделали вывод о проблемах с оборудованием во втором регионе"
   ]
  },
  {
   "cell_type": "markdown",
   "metadata": {},
   "source": [
    "## Обучение и проверка модели"
   ]
  },
  {
   "cell_type": "markdown",
   "metadata": {},
   "source": [
    "Перейдем к обучению модели. Разделим данные на обучающую и валидационную выборки в соотношении 75:25"
   ]
  },
  {
   "cell_type": "code",
   "execution_count": 38,
   "metadata": {},
   "outputs": [],
   "source": [
    "X_1 = region_1.drop(columns=['id', 'product'], axis=1)\n",
    "y_1 = region_1['product']\n",
    "\n",
    "X_2 = region_2.drop(columns=['id', 'product'], axis=1)\n",
    "y_2 = region_2['product']\n",
    "\n",
    "X_3 = region_3.drop(columns=['id', 'product'], axis=1)\n",
    "y_3 = region_3['product']\n",
    "\n",
    "RANDOM_STATE=42\n",
    "\n",
    "X_train_1, X_val_1, y_train_1, y_val_1 = train_test_split(X_1, y_1, test_size=0.25, random_state=RANDOM_STATE)\n",
    "\n",
    "X_train_2, X_val_2, y_train_2, y_val_2 = train_test_split(X_2, y_2, test_size=0.25, random_state=RANDOM_STATE)\n",
    "\n",
    "X_train_3, X_val_3, y_train_3, y_val_3 = train_test_split(X_3, y_3, test_size=0.25, random_state=RANDOM_STATE)"
   ]
  },
  {
   "cell_type": "markdown",
   "metadata": {},
   "source": [
    "Стандартизируем все количественные признаки"
   ]
  },
  {
   "cell_type": "code",
   "execution_count": 39,
   "metadata": {},
   "outputs": [],
   "source": [
    "scaler_1 = StandardScaler()\n",
    "scaler_2 = StandardScaler()\n",
    "scaler_3 = StandardScaler()\n",
    "\n",
    "X_train_scaled_1 = scaler_1.fit_transform(X_train_1)\n",
    "X_val_scaled_1 = scaler_1.transform(X_val_1)\n",
    "\n",
    "X_train_scaled_2 = scaler_2.fit_transform(X_train_2)\n",
    "X_val_scaled_2 = scaler_2.transform(X_val_2)\n",
    "\n",
    "X_train_scaled_3 = scaler_3.fit_transform(X_train_3)\n",
    "X_val_scaled_3 = scaler_3.transform(X_val_3)"
   ]
  },
  {
   "cell_type": "markdown",
   "metadata": {},
   "source": [
    "Теперь обучим модель и сделаем предсказание для каждого региона на валидационной выборке"
   ]
  },
  {
   "cell_type": "code",
   "execution_count": 40,
   "metadata": {},
   "outputs": [],
   "source": [
    "model_1 = LinearRegression()\n",
    "model_2 = LinearRegression()\n",
    "model_3 = LinearRegression()\n",
    "\n",
    "model_1.fit(X_train_scaled_1, y_train_1)\n",
    "y_pred_1 = model_1.predict(X_val_scaled_1)\n",
    "\n",
    "model_2.fit(X_train_scaled_2, y_train_2)\n",
    "y_pred_2 = model_2.predict(X_val_scaled_2)\n",
    "\n",
    "model_3.fit(X_train_scaled_3, y_train_3)\n",
    "y_pred_3 = model_3.predict(X_val_scaled_3)"
   ]
  },
  {
   "cell_type": "markdown",
   "metadata": {},
   "source": [
    "Посчитаем среднее предсказанное значение для каждого региона и посчитаем метрику RMSE"
   ]
  },
  {
   "cell_type": "code",
   "execution_count": 41,
   "metadata": {},
   "outputs": [
    {
     "name": "stdout",
     "output_type": "stream",
     "text": [
      "Среднее значение предсказанного сырья для первого региона: 92.60984027552017\n",
      "Среднее значение предсказанного сырья для второго региона: 68.57703454115173\n",
      "Среднее значение предсказанного сырья для третьего региона: 94.93478722287514\n",
      "\n",
      "\n",
      "Среднее значение фактического сырья для первого региона: 92.49968421774354\n",
      "Среднее значение фактического сырья для второго региона: 68.82391591804064\n",
      "Среднее значение фактического сырья для третьего региона: 94.99834211933378\n",
      "\n",
      "\n",
      "Метрика RMSE для первого региона: 37.68508926201444\n",
      "Метрика RMSE для второго региона: 0.8928265978121422\n",
      "Метрика RMSE для третьего региона: 40.080822438088305\n"
     ]
    }
   ],
   "source": [
    "mse_1 = mean_squared_error(y_val_1, y_pred_1)\n",
    "mse_2 = mean_squared_error(y_val_2, y_pred_2)\n",
    "mse_3 = mean_squared_error(y_val_3, y_pred_3)\n",
    "\n",
    "rmse_1 = np.sqrt(mse_1)\n",
    "rmse_2 = np.sqrt(mse_2)\n",
    "rmse_3 = np.sqrt(mse_3)\n",
    "\n",
    "print(f'Среднее значение предсказанного сырья для первого региона: {y_pred_1.mean()}')\n",
    "print(f'Среднее значение предсказанного сырья для второго региона: {y_pred_2.mean()}')\n",
    "print(f'Среднее значение предсказанного сырья для третьего региона: {y_pred_3.mean()}')\n",
    "print('\\n')\n",
    "print(f'Среднее значение фактического сырья для первого региона: {region_1[\"product\"].mean()}')\n",
    "print(f'Среднее значение фактического сырья для второго региона: {region_2[\"product\"].mean()}')\n",
    "print(f'Среднее значение фактического сырья для третьего региона: {region_3[\"product\"].mean()}')\n",
    "print('\\n')\n",
    "print(f'Метрика RMSE для первого региона: {rmse_1}')\n",
    "print(f'Метрика RMSE для второго региона: {rmse_2}')\n",
    "print(f'Метрика RMSE для третьего региона: {rmse_3}')"
   ]
  },
  {
   "cell_type": "markdown",
   "metadata": {},
   "source": [
    "Для второго региона получили наименьшее количество предсказанного сырья, это было выявлено еще на этапе исследовательского анализа, так как среднее значение второго региона было меньше всего. Метрика RMSE лежит около значения 40 для всех регионов, кроме второго. О всех проблемах второго региона было сказано выше"
   ]
  },
  {
   "cell_type": "markdown",
   "metadata": {},
   "source": [
    "На этом этапе мы обучили три модели линейной регрессии для всех трех регионов. Посчитали метрику RMSE для каждого региона и посчитали средний запас предсказанного сырья"
   ]
  },
  {
   "cell_type": "markdown",
   "metadata": {},
   "source": [
    "## Подготовка к расчёту прибыли"
   ]
  },
  {
   "cell_type": "markdown",
   "metadata": {},
   "source": [
    "Для начала введем все необходимые переменные"
   ]
  },
  {
   "cell_type": "code",
   "execution_count": 42,
   "metadata": {},
   "outputs": [],
   "source": [
    "budget = 10e+9\n",
    "profit_all = 450000\n",
    "loss_probability = 0.025\n",
    "number_of_exploration_points = 500\n",
    "selected_points = 200"
   ]
  },
  {
   "cell_type": "markdown",
   "metadata": {},
   "source": [
    "Рассчитаем минимальный объем для безубыточной работы "
   ]
  },
  {
   "cell_type": "code",
   "execution_count": 43,
   "metadata": {},
   "outputs": [
    {
     "data": {
      "text/plain": [
       "22222.222222222223"
      ]
     },
     "execution_count": 43,
     "metadata": {},
     "output_type": "execute_result"
    }
   ],
   "source": [
    "min_product = budget / profit_all \n",
    "min_product"
   ]
  },
  {
   "cell_type": "markdown",
   "metadata": {},
   "source": [
    "Рассчитаем минимальный средний запас, приходящийся на 1 скважину"
   ]
  },
  {
   "cell_type": "code",
   "execution_count": 44,
   "metadata": {},
   "outputs": [
    {
     "data": {
      "text/plain": [
       "111.11111111111111"
      ]
     },
     "execution_count": 44,
     "metadata": {},
     "output_type": "execute_result"
    }
   ],
   "source": [
    "min_product_per_unit = min_product / selected_points\n",
    "min_product_per_unit"
   ]
  },
  {
   "cell_type": "markdown",
   "metadata": {},
   "source": [
    "Из пункта выше видим, что все скважины в среднем имеют меньший объем, чем нам необходимо. Поэтому нам необходимо с помощью модели избрать 200 скважин, которые способны производить больше, чем минимальный объем для безубытка"
   ]
  },
  {
   "cell_type": "markdown",
   "metadata": {},
   "source": [
    "## Расчёт прибыли и рисков "
   ]
  },
  {
   "cell_type": "markdown",
   "metadata": {},
   "source": [
    "Напишем функцию, рассчитывающую прибыль для лучших 200 скважин"
   ]
  },
  {
   "cell_type": "code",
   "execution_count": 52,
   "metadata": {},
   "outputs": [],
   "source": [
    "def profit(pred, true):\n",
    "    \n",
    "    sorted_indices = np.argsort(-pred)\n",
    "    top_200_indices = sorted_indices[:200]\n",
    "    \n",
    "    total_volume = true[top_200_indices].sum()\n",
    "    \n",
    "    profit = total_volume * profit_all - budget\n",
    "    \n",
    "    return profit"
   ]
  },
  {
   "cell_type": "markdown",
   "metadata": {},
   "source": [
    "Применим технику bootstrap, чтобы найти распределение прибыли"
   ]
  },
  {
   "cell_type": "code",
   "execution_count": 53,
   "metadata": {},
   "outputs": [],
   "source": [
    "y_pred_1_array = np.array(y_pred_1)\n",
    "y_val_1_array = np.array(y_val_1)\n",
    "\n",
    "y_pred_2_array = np.array(y_pred_2)\n",
    "y_val_2_array = np.array(y_val_2)\n",
    "\n",
    "y_pred_3_array = np.array(y_pred_3)\n",
    "y_val_3_array = np.array(y_val_3)"
   ]
  },
  {
   "cell_type": "code",
   "execution_count": 54,
   "metadata": {},
   "outputs": [],
   "source": [
    "bootstrap_samples = 1000\n",
    "\n",
    "profits_1 = []\n",
    "profits_2 = []\n",
    "profits_3 = []\n",
    "np.random.seed(42)\n",
    "\n",
    "for i in range(bootstrap_samples):\n",
    "    \n",
    "    \n",
    "    idx = np.random.choice(len(y_pred_1), size=number_of_exploration_points, replace=True)\n",
    "    sample_pred = y_pred_1_array[idx]\n",
    "    sample_true = y_val_1_array[idx]\n",
    "    profits_1.append(profit(sample_pred, sample_true))\n",
    "    \n",
    "for i in range(bootstrap_samples):\n",
    "    \n",
    "    idx = np.random.choice(len(y_pred_2), size=number_of_exploration_points, replace=True)\n",
    "    sample_pred = y_pred_2_array[idx]\n",
    "    sample_true = y_val_2_array[idx]\n",
    "    profits_2.append(profit(sample_pred, sample_true))\n",
    "    \n",
    "for i in range(bootstrap_samples):\n",
    "    \n",
    "    idx = np.random.choice(len(y_pred_1), size=number_of_exploration_points, replace=True)\n",
    "    sample_pred = y_pred_3_array[idx]\n",
    "    sample_true = y_val_3_array[idx]\n",
    "    profits_3.append(profit(sample_pred, sample_true))"
   ]
  },
  {
   "cell_type": "markdown",
   "metadata": {},
   "source": [
    "Теперь найдем среднюю прибыль"
   ]
  },
  {
   "cell_type": "code",
   "execution_count": 55,
   "metadata": {},
   "outputs": [
    {
     "name": "stdout",
     "output_type": "stream",
     "text": [
      "Средняя прибыль для первого региона: 403572063.9550541\n",
      "Средняя прибыль для второго региона: 439363670.3344077\n",
      "Средняя прибыль для третьего региона: 368219066.4854033\n"
     ]
    }
   ],
   "source": [
    "profit_1_mean = np.mean(profits_1)\n",
    "profit_2_mean = np.mean(profits_2)\n",
    "profit_3_mean = np.mean(profits_3)\n",
    "\n",
    "print(f'Средняя прибыль для первого региона: {profit_1_mean}')\n",
    "print(f'Средняя прибыль для второго региона: {profit_2_mean}')\n",
    "print(f'Средняя прибыль для третьего региона: {profit_3_mean}')"
   ]
  },
  {
   "cell_type": "markdown",
   "metadata": {},
   "source": [
    "Перейдем к 95% доверительному интервалу"
   ]
  },
  {
   "cell_type": "code",
   "execution_count": 56,
   "metadata": {},
   "outputs": [
    {
     "name": "stdout",
     "output_type": "stream",
     "text": [
      "95% доверительный интервал для первого региона: [-137690003.15, 902848310.78]\n",
      "95% доверительный интервал для второго региона: [31747699.96, 845875096.07]\n",
      "95% доверительный интервал для третьего региона: [-158084899.26, 865423754.99]\n"
     ]
    }
   ],
   "source": [
    "ci_low_1 = np.percentile(profits_1, 2.5)  \n",
    "ci_high_1 = np.percentile(profits_1, 97.5) \n",
    "\n",
    "ci_low_2 = np.percentile(profits_2, 2.5)  \n",
    "ci_high_2 = np.percentile(profits_2, 97.5) \n",
    "\n",
    "ci_low_3 = np.percentile(profits_3, 2.5)  \n",
    "ci_high_3 = np.percentile(profits_3, 97.5) \n",
    "\n",
    "\n",
    "print(f'95% доверительный интервал для первого региона: [{ci_low_1:.2f}, {ci_high_1:.2f}]')\n",
    "print(f'95% доверительный интервал для второго региона: [{ci_low_2:.2f}, {ci_high_2:.2f}]')\n",
    "print(f'95% доверительный интервал для третьего региона: [{ci_low_3:.2f}, {ci_high_3:.2f}]')"
   ]
  },
  {
   "cell_type": "markdown",
   "metadata": {},
   "source": [
    "Теперь займемся рисками"
   ]
  },
  {
   "cell_type": "code",
   "execution_count": 57,
   "metadata": {},
   "outputs": [
    {
     "name": "stdout",
     "output_type": "stream",
     "text": [
      "Риск убытка в первом регионе: 5.8999999999999995\n",
      "Риск убытка во втором регионе: 1.6\n",
      "Риск убытка в третьем регионе: 7.5\n"
     ]
    }
   ],
   "source": [
    "risk_1 = np.mean(np.array(profits_1) < 0) * 100\n",
    "risk_2 = np.mean(np.array(profits_2) < 0) * 100\n",
    "risk_3 = np.mean(np.array(profits_3) < 0) * 100\n",
    "\n",
    "print(f'Риск убытка в первом регионе: {risk_1}')\n",
    "print(f'Риск убытка во втором регионе: {risk_2}')\n",
    "print(f'Риск убытка в третьем регионе: {risk_3}')"
   ]
  },
  {
   "cell_type": "code",
   "execution_count": 51,
   "metadata": {},
   "outputs": [
    {
     "data": {
      "image/png": "[encoded data removed]",
      "text/plain": [
       "<Figure size 1080x504 with 1 Axes>"
      ]
     },
     "metadata": {
      "needs_background": "light"
     },
     "output_type": "display_data"
    }
   ],
   "source": [
    "plt.figure(figsize=(15, 7))\n",
    "sns.boxplot(data=[profits_1, profits_2, profits_3])\n",
    "plt.xlabel('Регион')\n",
    "plt.ylabel('Прибыль (бутстреп)')\n",
    "plt.title('Ящик с усами для трех регионов по прибыли')\n",
    "plt.show()"
   ]
  },
  {
   "cell_type": "markdown",
   "metadata": {},
   "source": [
    "Первый и третий регионы имеют наибольший риск убытка > 2.5%, поэтому эти регионы в расчет не берем. Остается только второй регион с самой большой прибылью, но у него были не очень качественные данные. Так что бизнесу нужно сделать выбор между маленькими рисками и некачественными данными и риском побольше, но качественными данными"
   ]
  }
 ],
 "metadata": {
  "ExecuteTimeLog": [
   {
    "duration": 12,
    "start_time": "2025-03-28T16:34:30.916Z"
   },
   {
    "duration": 3719,
    "start_time": "2025-08-02T18:31:04.635Z"
   },
   {
    "duration": 1450,
    "start_time": "2025-08-02T18:31:31.427Z"
   },
   {
    "duration": 447,
    "start_time": "2025-08-02T18:32:40.767Z"
   },
   {
    "duration": 14,
    "start_time": "2025-08-02T18:32:54.779Z"
   },
   {
    "duration": 10,
    "start_time": "2025-08-02T18:33:07.629Z"
   },
   {
    "duration": 10,
    "start_time": "2025-08-02T18:33:12.576Z"
   },
   {
    "duration": 17,
    "start_time": "2025-08-02T18:33:50.318Z"
   },
   {
    "duration": 14,
    "start_time": "2025-08-02T18:34:58.220Z"
   },
   {
    "duration": 14,
    "start_time": "2025-08-02T18:35:25.532Z"
   },
   {
    "duration": 47,
    "start_time": "2025-08-02T18:39:00.016Z"
   },
   {
    "duration": 43,
    "start_time": "2025-08-02T18:39:06.410Z"
   },
   {
    "duration": 46,
    "start_time": "2025-08-02T18:39:11.462Z"
   },
   {
    "duration": 30,
    "start_time": "2025-08-02T18:45:00.734Z"
   },
   {
    "duration": 23,
    "start_time": "2025-08-02T18:47:53.687Z"
   },
   {
    "duration": 26,
    "start_time": "2025-08-02T18:48:00.356Z"
   },
   {
    "duration": 29,
    "start_time": "2025-08-02T18:48:45.645Z"
   },
   {
    "duration": 27,
    "start_time": "2025-08-02T18:48:55.647Z"
   },
   {
    "duration": 31,
    "start_time": "2025-08-02T18:49:05.969Z"
   },
   {
    "duration": 27,
    "start_time": "2025-08-02T18:49:15.324Z"
   },
   {
    "duration": 209,
    "start_time": "2025-08-02T18:56:07.955Z"
   },
   {
    "duration": 227,
    "start_time": "2025-08-02T18:57:22.876Z"
   },
   {
    "duration": 12,
    "start_time": "2025-08-02T18:58:14.800Z"
   },
   {
    "duration": 245,
    "start_time": "2025-08-02T19:00:13.811Z"
   },
   {
    "duration": 15,
    "start_time": "2025-08-02T19:01:41.060Z"
   },
   {
    "duration": 224,
    "start_time": "2025-08-02T19:09:43.227Z"
   },
   {
    "duration": 12,
    "start_time": "2025-08-02T19:12:16.380Z"
   },
   {
    "duration": 243,
    "start_time": "2025-08-02T19:16:43.430Z"
   },
   {
    "duration": 327,
    "start_time": "2025-08-02T19:16:54.247Z"
   },
   {
    "duration": 200,
    "start_time": "2025-08-02T19:17:47.074Z"
   },
   {
    "duration": 226,
    "start_time": "2025-08-02T19:18:16.020Z"
   },
   {
    "duration": 236,
    "start_time": "2025-08-02T19:18:54.066Z"
   },
   {
    "duration": 217,
    "start_time": "2025-08-02T19:20:06.721Z"
   },
   {
    "duration": 221,
    "start_time": "2025-08-02T19:20:41.753Z"
   },
   {
    "duration": 212,
    "start_time": "2025-08-02T19:21:47.111Z"
   },
   {
    "duration": 209,
    "start_time": "2025-08-02T19:22:14.898Z"
   },
   {
    "duration": 257,
    "start_time": "2025-08-02T19:22:47.951Z"
   },
   {
    "duration": 151,
    "start_time": "2025-08-02T19:26:46.896Z"
   },
   {
    "duration": 52,
    "start_time": "2025-08-02T19:29:02.984Z"
   },
   {
    "duration": 2345,
    "start_time": "2025-08-02T19:29:08.207Z"
   },
   {
    "duration": 1205,
    "start_time": "2025-08-02T19:29:10.555Z"
   },
   {
    "duration": 459,
    "start_time": "2025-08-02T19:29:11.762Z"
   },
   {
    "duration": 13,
    "start_time": "2025-08-02T19:29:12.223Z"
   },
   {
    "duration": 8,
    "start_time": "2025-08-02T19:29:12.238Z"
   },
   {
    "duration": 8,
    "start_time": "2025-08-02T19:29:12.248Z"
   },
   {
    "duration": 25,
    "start_time": "2025-08-02T19:29:12.258Z"
   },
   {
    "duration": 23,
    "start_time": "2025-08-02T19:29:12.284Z"
   },
   {
    "duration": 28,
    "start_time": "2025-08-02T19:29:12.308Z"
   },
   {
    "duration": 45,
    "start_time": "2025-08-02T19:29:12.337Z"
   },
   {
    "duration": 54,
    "start_time": "2025-08-02T19:29:12.384Z"
   },
   {
    "duration": 44,
    "start_time": "2025-08-02T19:29:12.440Z"
   },
   {
    "duration": 54,
    "start_time": "2025-08-02T19:29:12.486Z"
   },
   {
    "duration": 29,
    "start_time": "2025-08-02T19:29:12.544Z"
   },
   {
    "duration": 31,
    "start_time": "2025-08-02T19:29:12.574Z"
   },
   {
    "duration": 44,
    "start_time": "2025-08-02T19:29:12.606Z"
   },
   {
    "duration": 33,
    "start_time": "2025-08-02T19:29:12.652Z"
   },
   {
    "duration": 26,
    "start_time": "2025-08-02T19:29:12.686Z"
   },
   {
    "duration": 243,
    "start_time": "2025-08-02T19:29:12.735Z"
   },
   {
    "duration": 13,
    "start_time": "2025-08-02T19:29:12.980Z"
   },
   {
    "duration": 262,
    "start_time": "2025-08-02T19:29:12.994Z"
   },
   {
    "duration": 11,
    "start_time": "2025-08-02T19:29:13.258Z"
   },
   {
    "duration": 238,
    "start_time": "2025-08-02T19:29:13.271Z"
   },
   {
    "duration": 11,
    "start_time": "2025-08-02T19:29:13.511Z"
   },
   {
    "duration": 242,
    "start_time": "2025-08-02T19:29:13.524Z"
   },
   {
    "duration": 230,
    "start_time": "2025-08-02T19:29:13.768Z"
   },
   {
    "duration": 314,
    "start_time": "2025-08-02T19:29:14.000Z"
   },
   {
    "duration": 207,
    "start_time": "2025-08-02T19:29:14.316Z"
   },
   {
    "duration": 209,
    "start_time": "2025-08-02T19:29:14.525Z"
   },
   {
    "duration": 221,
    "start_time": "2025-08-02T19:29:14.735Z"
   },
   {
    "duration": 244,
    "start_time": "2025-08-02T19:29:14.957Z"
   },
   {
    "duration": 232,
    "start_time": "2025-08-02T19:29:15.203Z"
   },
   {
    "duration": 229,
    "start_time": "2025-08-02T19:29:15.437Z"
   },
   {
    "duration": 62,
    "start_time": "2025-08-02T19:30:36.116Z"
   },
   {
    "duration": 2513,
    "start_time": "2025-08-02T19:30:40.930Z"
   },
   {
    "duration": 1305,
    "start_time": "2025-08-02T19:30:43.446Z"
   },
   {
    "duration": 476,
    "start_time": "2025-08-02T19:30:44.758Z"
   },
   {
    "duration": 20,
    "start_time": "2025-08-02T19:30:45.235Z"
   },
   {
    "duration": 41,
    "start_time": "2025-08-02T19:30:45.257Z"
   },
   {
    "duration": 25,
    "start_time": "2025-08-02T19:30:45.299Z"
   },
   {
    "duration": 39,
    "start_time": "2025-08-02T19:30:45.326Z"
   },
   {
    "duration": 24,
    "start_time": "2025-08-02T19:30:45.367Z"
   },
   {
    "duration": 26,
    "start_time": "2025-08-02T19:30:45.394Z"
   },
   {
    "duration": 114,
    "start_time": "2025-08-02T19:30:45.422Z"
   },
   {
    "duration": 69,
    "start_time": "2025-08-02T19:30:45.538Z"
   },
   {
    "duration": 55,
    "start_time": "2025-08-02T19:30:45.609Z"
   },
   {
    "duration": 29,
    "start_time": "2025-08-02T19:30:45.666Z"
   },
   {
    "duration": 184,
    "start_time": "2025-08-02T19:30:45.697Z"
   },
   {
    "duration": 28,
    "start_time": "2025-08-02T19:30:45.883Z"
   },
   {
    "duration": 29,
    "start_time": "2025-08-02T19:30:45.913Z"
   },
   {
    "duration": 37,
    "start_time": "2025-08-02T19:30:45.944Z"
   },
   {
    "duration": 27,
    "start_time": "2025-08-02T19:30:45.982Z"
   },
   {
    "duration": 284,
    "start_time": "2025-08-02T19:30:46.011Z"
   },
   {
    "duration": 11,
    "start_time": "2025-08-02T19:30:46.297Z"
   },
   {
    "duration": 286,
    "start_time": "2025-08-02T19:30:46.310Z"
   },
   {
    "duration": 12,
    "start_time": "2025-08-02T19:30:46.598Z"
   },
   {
    "duration": 263,
    "start_time": "2025-08-02T19:30:46.612Z"
   },
   {
    "duration": 12,
    "start_time": "2025-08-02T19:30:46.876Z"
   },
   {
    "duration": 407,
    "start_time": "2025-08-02T19:30:46.889Z"
   },
   {
    "duration": 217,
    "start_time": "2025-08-02T19:30:47.298Z"
   },
   {
    "duration": 348,
    "start_time": "2025-08-02T19:30:47.518Z"
   },
   {
    "duration": 222,
    "start_time": "2025-08-02T19:30:47.867Z"
   },
   {
    "duration": 206,
    "start_time": "2025-08-02T19:30:48.091Z"
   },
   {
    "duration": 257,
    "start_time": "2025-08-02T19:30:48.299Z"
   },
   {
    "duration": 221,
    "start_time": "2025-08-02T19:30:48.558Z"
   },
   {
    "duration": 242,
    "start_time": "2025-08-02T19:30:48.780Z"
   },
   {
    "duration": 223,
    "start_time": "2025-08-02T19:30:49.023Z"
   },
   {
    "duration": 17900,
    "start_time": "2025-08-02T19:30:49.251Z"
   },
   {
    "duration": 632,
    "start_time": "2025-08-02T19:31:17.457Z"
   },
   {
    "duration": 562,
    "start_time": "2025-08-02T19:33:23.103Z"
   },
   {
    "duration": 607,
    "start_time": "2025-08-02T20:02:04.314Z"
   },
   {
    "duration": 268,
    "start_time": "2025-08-02T20:11:48.108Z"
   },
   {
    "duration": 89,
    "start_time": "2025-08-02T20:12:35.194Z"
   },
   {
    "duration": 20,
    "start_time": "2025-08-02T20:12:38.675Z"
   },
   {
    "duration": 127,
    "start_time": "2025-08-02T20:14:39.708Z"
   },
   {
    "duration": 7,
    "start_time": "2025-08-02T20:17:39.679Z"
   },
   {
    "duration": 7,
    "start_time": "2025-08-02T20:17:50.137Z"
   },
   {
    "duration": 28,
    "start_time": "2025-08-02T20:24:56.813Z"
   },
   {
    "duration": 25,
    "start_time": "2025-08-02T20:24:57.768Z"
   },
   {
    "duration": 79,
    "start_time": "2025-08-02T20:24:59.656Z"
   },
   {
    "duration": 7,
    "start_time": "2025-08-02T20:25:02.971Z"
   },
   {
    "duration": 119,
    "start_time": "2025-08-02T20:28:11.271Z"
   },
   {
    "duration": 7,
    "start_time": "2025-08-02T20:28:22.575Z"
   },
   {
    "duration": 8,
    "start_time": "2025-08-02T20:29:14.749Z"
   },
   {
    "duration": 110,
    "start_time": "2025-08-02T20:34:04.387Z"
   },
   {
    "duration": 10,
    "start_time": "2025-08-02T20:35:09.012Z"
   },
   {
    "duration": 10,
    "start_time": "2025-08-02T20:36:55.729Z"
   },
   {
    "duration": 10,
    "start_time": "2025-08-02T20:36:59.156Z"
   },
   {
    "duration": 3,
    "start_time": "2025-08-02T20:37:32.964Z"
   },
   {
    "duration": 3,
    "start_time": "2025-08-02T20:37:37.453Z"
   },
   {
    "duration": 3,
    "start_time": "2025-08-02T20:39:32.668Z"
   },
   {
    "duration": 3,
    "start_time": "2025-08-02T20:45:48.428Z"
   },
   {
    "duration": 3,
    "start_time": "2025-08-02T20:45:53.734Z"
   },
   {
    "duration": 4,
    "start_time": "2025-08-02T20:53:29.226Z"
   },
   {
    "duration": 3,
    "start_time": "2025-08-02T21:08:50.908Z"
   },
   {
    "duration": 3,
    "start_time": "2025-08-02T21:08:51.503Z"
   },
   {
    "duration": 6,
    "start_time": "2025-08-02T21:08:52.247Z"
   },
   {
    "duration": 5,
    "start_time": "2025-08-02T21:15:00.942Z"
   },
   {
    "duration": 80,
    "start_time": "2025-08-02T21:16:08.340Z"
   },
   {
    "duration": 119,
    "start_time": "2025-08-02T21:16:13.782Z"
   },
   {
    "duration": 3,
    "start_time": "2025-08-02T21:16:26.496Z"
   },
   {
    "duration": 14,
    "start_time": "2025-08-02T21:16:27.291Z"
   },
   {
    "duration": 3,
    "start_time": "2025-08-02T21:16:30.621Z"
   },
   {
    "duration": 5,
    "start_time": "2025-08-02T21:16:31.032Z"
   },
   {
    "duration": 4,
    "start_time": "2025-08-02T21:16:31.415Z"
   },
   {
    "duration": 5,
    "start_time": "2025-08-02T21:16:33.448Z"
   },
   {
    "duration": 4,
    "start_time": "2025-08-02T21:16:34.127Z"
   },
   {
    "duration": 9,
    "start_time": "2025-08-02T21:16:53.406Z"
   },
   {
    "duration": 4,
    "start_time": "2025-08-02T21:43:35.813Z"
   },
   {
    "duration": 14,
    "start_time": "2025-08-02T21:45:33.795Z"
   },
   {
    "duration": 18,
    "start_time": "2025-08-02T21:53:32.764Z"
   },
   {
    "duration": 14,
    "start_time": "2025-08-02T21:53:40.741Z"
   },
   {
    "duration": 2029,
    "start_time": "2025-08-02T21:53:44.277Z"
   },
   {
    "duration": 2052,
    "start_time": "2025-08-02T21:54:30.906Z"
   },
   {
    "duration": 2019,
    "start_time": "2025-08-02T21:54:48.441Z"
   },
   {
    "duration": 112,
    "start_time": "2025-08-02T21:55:18.077Z"
   },
   {
    "duration": 2232,
    "start_time": "2025-08-02T21:56:23.005Z"
   },
   {
    "duration": 6084,
    "start_time": "2025-08-02T21:56:47.682Z"
   },
   {
    "duration": 6019,
    "start_time": "2025-08-02T21:57:20.886Z"
   },
   {
    "duration": 9,
    "start_time": "2025-08-02T21:58:14.484Z"
   },
   {
    "duration": 8,
    "start_time": "2025-08-02T21:58:21.009Z"
   },
   {
    "duration": 3,
    "start_time": "2025-08-02T21:58:24.567Z"
   },
   {
    "duration": 4,
    "start_time": "2025-08-02T21:58:34.540Z"
   },
   {
    "duration": 6,
    "start_time": "2025-08-02T21:59:18.840Z"
   },
   {
    "duration": 12,
    "start_time": "2025-08-02T22:02:03.656Z"
   },
   {
    "duration": 5,
    "start_time": "2025-08-02T22:02:10.698Z"
   },
   {
    "duration": 6,
    "start_time": "2025-08-02T22:03:03.109Z"
   },
   {
    "duration": 8,
    "start_time": "2025-08-02T22:04:54.706Z"
   },
   {
    "duration": 3,
    "start_time": "2025-08-02T22:05:34.717Z"
   },
   {
    "duration": 8,
    "start_time": "2025-08-02T22:06:18.665Z"
   },
   {
    "duration": 8,
    "start_time": "2025-08-02T22:07:05.059Z"
   },
   {
    "duration": 2405,
    "start_time": "2025-08-02T22:09:36.815Z"
   },
   {
    "duration": 1481,
    "start_time": "2025-08-02T22:09:39.222Z"
   },
   {
    "duration": 407,
    "start_time": "2025-08-02T22:09:40.705Z"
   },
   {
    "duration": 20,
    "start_time": "2025-08-02T22:09:41.114Z"
   },
   {
    "duration": 19,
    "start_time": "2025-08-02T22:09:41.136Z"
   },
   {
    "duration": 17,
    "start_time": "2025-08-02T22:09:41.157Z"
   },
   {
    "duration": 18,
    "start_time": "2025-08-02T22:09:41.176Z"
   },
   {
    "duration": 13,
    "start_time": "2025-08-02T22:09:41.195Z"
   },
   {
    "duration": 25,
    "start_time": "2025-08-02T22:09:41.234Z"
   },
   {
    "duration": 54,
    "start_time": "2025-08-02T22:09:41.264Z"
   },
   {
    "duration": 51,
    "start_time": "2025-08-02T22:09:41.334Z"
   },
   {
    "duration": 64,
    "start_time": "2025-08-02T22:09:41.386Z"
   },
   {
    "duration": 29,
    "start_time": "2025-08-02T22:09:41.452Z"
   },
   {
    "duration": 138,
    "start_time": "2025-08-02T22:09:41.483Z"
   },
   {
    "duration": 29,
    "start_time": "2025-08-02T22:09:41.622Z"
   },
   {
    "duration": 39,
    "start_time": "2025-08-02T22:09:41.654Z"
   },
   {
    "duration": 41,
    "start_time": "2025-08-02T22:09:41.694Z"
   },
   {
    "duration": 31,
    "start_time": "2025-08-02T22:09:41.736Z"
   },
   {
    "duration": 27,
    "start_time": "2025-08-02T22:09:41.768Z"
   },
   {
    "duration": 312,
    "start_time": "2025-08-02T22:09:41.796Z"
   },
   {
    "duration": 13,
    "start_time": "2025-08-02T22:09:42.109Z"
   },
   {
    "duration": 259,
    "start_time": "2025-08-02T22:09:42.123Z"
   },
   {
    "duration": 11,
    "start_time": "2025-08-02T22:09:42.384Z"
   },
   {
    "duration": 269,
    "start_time": "2025-08-02T22:09:42.397Z"
   },
   {
    "duration": 13,
    "start_time": "2025-08-02T22:09:42.669Z"
   },
   {
    "duration": 362,
    "start_time": "2025-08-02T22:09:42.684Z"
   },
   {
    "duration": 218,
    "start_time": "2025-08-02T22:09:43.048Z"
   },
   {
    "duration": 241,
    "start_time": "2025-08-02T22:09:43.271Z"
   },
   {
    "duration": 221,
    "start_time": "2025-08-02T22:09:43.513Z"
   },
   {
    "duration": 244,
    "start_time": "2025-08-02T22:09:43.736Z"
   },
   {
    "duration": 234,
    "start_time": "2025-08-02T22:09:43.981Z"
   },
   {
    "duration": 217,
    "start_time": "2025-08-02T22:09:44.217Z"
   },
   {
    "duration": 228,
    "start_time": "2025-08-02T22:09:44.436Z"
   },
   {
    "duration": 221,
    "start_time": "2025-08-02T22:09:44.666Z"
   },
   {
    "duration": 756,
    "start_time": "2025-08-02T22:09:44.889Z"
   },
   {
    "duration": 610,
    "start_time": "2025-08-02T22:09:45.647Z"
   },
   {
    "duration": 609,
    "start_time": "2025-08-02T22:09:46.258Z"
   },
   {
    "duration": 36,
    "start_time": "2025-08-02T22:09:46.869Z"
   },
   {
    "duration": 90,
    "start_time": "2025-08-02T22:09:46.907Z"
   },
   {
    "duration": 236,
    "start_time": "2025-08-02T22:09:46.999Z"
   },
   {
    "duration": 99,
    "start_time": "2025-08-02T22:09:47.237Z"
   },
   {
    "duration": 6,
    "start_time": "2025-08-02T22:09:47.338Z"
   },
   {
    "duration": 6,
    "start_time": "2025-08-02T22:09:47.346Z"
   },
   {
    "duration": 7,
    "start_time": "2025-08-02T22:09:47.354Z"
   },
   {
    "duration": 11,
    "start_time": "2025-08-02T22:09:47.362Z"
   },
   {
    "duration": 6803,
    "start_time": "2025-08-02T22:09:47.374Z"
   },
   {
    "duration": 5,
    "start_time": "2025-08-02T22:09:54.179Z"
   },
   {
    "duration": 156,
    "start_time": "2025-08-02T22:09:54.185Z"
   },
   {
    "duration": 39,
    "start_time": "2025-08-02T22:09:54.342Z"
   },
   {
    "duration": 2642,
    "start_time": "2025-08-02T23:30:48.399Z"
   },
   {
    "duration": 1472,
    "start_time": "2025-08-02T23:30:51.044Z"
   },
   {
    "duration": 434,
    "start_time": "2025-08-02T23:30:52.518Z"
   },
   {
    "duration": 15,
    "start_time": "2025-08-02T23:30:52.955Z"
   },
   {
    "duration": 14,
    "start_time": "2025-08-02T23:30:52.972Z"
   },
   {
    "duration": 11,
    "start_time": "2025-08-02T23:30:52.987Z"
   },
   {
    "duration": 19,
    "start_time": "2025-08-02T23:30:52.999Z"
   },
   {
    "duration": 45,
    "start_time": "2025-08-02T23:30:53.019Z"
   },
   {
    "duration": 59,
    "start_time": "2025-08-02T23:30:53.066Z"
   },
   {
    "duration": 52,
    "start_time": "2025-08-02T23:30:53.128Z"
   },
   {
    "duration": 48,
    "start_time": "2025-08-02T23:30:53.181Z"
   },
   {
    "duration": 62,
    "start_time": "2025-08-02T23:30:53.231Z"
   },
   {
    "duration": 33,
    "start_time": "2025-08-02T23:30:53.295Z"
   },
   {
    "duration": 44,
    "start_time": "2025-08-02T23:30:53.330Z"
   },
   {
    "duration": 30,
    "start_time": "2025-08-02T23:30:53.375Z"
   },
   {
    "duration": 55,
    "start_time": "2025-08-02T23:30:53.407Z"
   },
   {
    "duration": 32,
    "start_time": "2025-08-02T23:30:53.463Z"
   },
   {
    "duration": 54,
    "start_time": "2025-08-02T23:30:53.497Z"
   },
   {
    "duration": 31,
    "start_time": "2025-08-02T23:30:53.553Z"
   },
   {
    "duration": 293,
    "start_time": "2025-08-02T23:30:53.586Z"
   },
   {
    "duration": 13,
    "start_time": "2025-08-02T23:30:53.881Z"
   },
   {
    "duration": 276,
    "start_time": "2025-08-02T23:30:53.896Z"
   },
   {
    "duration": 13,
    "start_time": "2025-08-02T23:30:54.174Z"
   },
   {
    "duration": 313,
    "start_time": "2025-08-02T23:30:54.188Z"
   },
   {
    "duration": 13,
    "start_time": "2025-08-02T23:30:54.503Z"
   },
   {
    "duration": 352,
    "start_time": "2025-08-02T23:30:54.518Z"
   },
   {
    "duration": 260,
    "start_time": "2025-08-02T23:30:54.872Z"
   },
   {
    "duration": 280,
    "start_time": "2025-08-02T23:30:55.137Z"
   },
   {
    "duration": 250,
    "start_time": "2025-08-02T23:30:55.419Z"
   },
   {
    "duration": 241,
    "start_time": "2025-08-02T23:30:55.671Z"
   },
   {
    "duration": 266,
    "start_time": "2025-08-02T23:30:55.914Z"
   },
   {
    "duration": 252,
    "start_time": "2025-08-02T23:30:56.181Z"
   },
   {
    "duration": 278,
    "start_time": "2025-08-02T23:30:56.435Z"
   },
   {
    "duration": 256,
    "start_time": "2025-08-02T23:30:56.715Z"
   },
   {
    "duration": 802,
    "start_time": "2025-08-02T23:30:56.973Z"
   },
   {
    "duration": 634,
    "start_time": "2025-08-02T23:30:57.777Z"
   },
   {
    "duration": 659,
    "start_time": "2025-08-02T23:30:58.413Z"
   },
   {
    "duration": 41,
    "start_time": "2025-08-02T23:30:59.074Z"
   },
   {
    "duration": 53,
    "start_time": "2025-08-02T23:30:59.116Z"
   },
   {
    "duration": 184,
    "start_time": "2025-08-02T23:30:59.170Z"
   },
   {
    "duration": 195,
    "start_time": "2025-08-02T23:30:59.356Z"
   },
   {
    "duration": 4,
    "start_time": "2025-08-02T23:30:59.552Z"
   },
   {
    "duration": 5,
    "start_time": "2025-08-02T23:30:59.557Z"
   },
   {
    "duration": 27,
    "start_time": "2025-08-02T23:30:59.564Z"
   },
   {
    "duration": 4,
    "start_time": "2025-08-02T23:30:59.592Z"
   },
   {
    "duration": 7999,
    "start_time": "2025-08-02T23:30:59.598Z"
   },
   {
    "duration": 5,
    "start_time": "2025-08-02T23:31:07.598Z"
   },
   {
    "duration": 43,
    "start_time": "2025-08-02T23:31:07.605Z"
   },
   {
    "duration": 6,
    "start_time": "2025-08-02T23:31:07.650Z"
   },
   {
    "duration": 4,
    "start_time": "2025-08-02T23:31:09.675Z"
   },
   {
    "duration": 6857,
    "start_time": "2025-08-02T23:31:10.164Z"
   },
   {
    "duration": 5,
    "start_time": "2025-08-02T23:31:17.023Z"
   },
   {
    "duration": 99,
    "start_time": "2025-08-02T23:31:17.030Z"
   },
   {
    "duration": 33,
    "start_time": "2025-08-02T23:31:17.132Z"
   },
   {
    "duration": 55,
    "start_time": "2025-08-02T23:45:33.927Z"
   },
   {
    "duration": 3426,
    "start_time": "2025-08-02T23:45:38.409Z"
   },
   {
    "duration": 1741,
    "start_time": "2025-08-02T23:45:41.837Z"
   },
   {
    "duration": 433,
    "start_time": "2025-08-02T23:45:43.580Z"
   },
   {
    "duration": 14,
    "start_time": "2025-08-02T23:45:44.015Z"
   },
   {
    "duration": 10,
    "start_time": "2025-08-02T23:45:44.031Z"
   },
   {
    "duration": 30,
    "start_time": "2025-08-02T23:45:44.042Z"
   },
   {
    "duration": 42,
    "start_time": "2025-08-02T23:45:44.075Z"
   },
   {
    "duration": 49,
    "start_time": "2025-08-02T23:45:44.119Z"
   },
   {
    "duration": 16,
    "start_time": "2025-08-02T23:45:44.170Z"
   },
   {
    "duration": 50,
    "start_time": "2025-08-02T23:45:44.189Z"
   },
   {
    "duration": 67,
    "start_time": "2025-08-02T23:45:44.241Z"
   },
   {
    "duration": 62,
    "start_time": "2025-08-02T23:45:44.310Z"
   },
   {
    "duration": 30,
    "start_time": "2025-08-02T23:45:44.374Z"
   },
   {
    "duration": 27,
    "start_time": "2025-08-02T23:45:44.406Z"
   },
   {
    "duration": 52,
    "start_time": "2025-08-02T23:45:44.434Z"
   },
   {
    "duration": 31,
    "start_time": "2025-08-02T23:45:44.488Z"
   },
   {
    "duration": 50,
    "start_time": "2025-08-02T23:45:44.521Z"
   },
   {
    "duration": 31,
    "start_time": "2025-08-02T23:45:44.573Z"
   },
   {
    "duration": 26,
    "start_time": "2025-08-02T23:45:44.605Z"
   },
   {
    "duration": 275,
    "start_time": "2025-08-02T23:45:44.633Z"
   },
   {
    "duration": 13,
    "start_time": "2025-08-02T23:45:44.910Z"
   },
   {
    "duration": 262,
    "start_time": "2025-08-02T23:45:44.925Z"
   },
   {
    "duration": 11,
    "start_time": "2025-08-02T23:45:45.189Z"
   },
   {
    "duration": 246,
    "start_time": "2025-08-02T23:45:45.202Z"
   },
   {
    "duration": 22,
    "start_time": "2025-08-02T23:45:45.450Z"
   },
   {
    "duration": 334,
    "start_time": "2025-08-02T23:45:45.474Z"
   },
   {
    "duration": 226,
    "start_time": "2025-08-02T23:45:45.809Z"
   },
   {
    "duration": 256,
    "start_time": "2025-08-02T23:45:46.039Z"
   },
   {
    "duration": 231,
    "start_time": "2025-08-02T23:45:46.296Z"
   },
   {
    "duration": 231,
    "start_time": "2025-08-02T23:45:46.529Z"
   },
   {
    "duration": 244,
    "start_time": "2025-08-02T23:45:46.762Z"
   },
   {
    "duration": 234,
    "start_time": "2025-08-02T23:45:47.008Z"
   },
   {
    "duration": 235,
    "start_time": "2025-08-02T23:45:47.243Z"
   },
   {
    "duration": 228,
    "start_time": "2025-08-02T23:45:47.479Z"
   },
   {
    "duration": 792,
    "start_time": "2025-08-02T23:45:47.709Z"
   },
   {
    "duration": 629,
    "start_time": "2025-08-02T23:45:48.503Z"
   },
   {
    "duration": 609,
    "start_time": "2025-08-02T23:45:49.134Z"
   },
   {
    "duration": 45,
    "start_time": "2025-08-02T23:45:49.744Z"
   },
   {
    "duration": 31,
    "start_time": "2025-08-02T23:45:49.791Z"
   },
   {
    "duration": 151,
    "start_time": "2025-08-02T23:45:49.824Z"
   },
   {
    "duration": 101,
    "start_time": "2025-08-02T23:45:49.977Z"
   },
   {
    "duration": 117,
    "start_time": "2025-08-02T23:45:50.080Z"
   },
   {
    "duration": 7,
    "start_time": "2025-08-02T23:45:50.199Z"
   },
   {
    "duration": 5,
    "start_time": "2025-08-02T23:45:50.208Z"
   },
   {
    "duration": 5,
    "start_time": "2025-08-02T23:45:50.214Z"
   },
   {
    "duration": 168,
    "start_time": "2025-08-02T23:45:50.221Z"
   },
   {
    "duration": 5,
    "start_time": "2025-08-02T23:45:50.391Z"
   },
   {
    "duration": 7,
    "start_time": "2025-08-02T23:45:50.397Z"
   },
   {
    "duration": 4,
    "start_time": "2025-08-02T23:45:50.406Z"
   },
   {
    "duration": 3,
    "start_time": "2025-08-02T23:47:08.753Z"
   },
   {
    "duration": 149,
    "start_time": "2025-08-02T23:47:11.096Z"
   },
   {
    "duration": 4,
    "start_time": "2025-08-02T23:47:15.567Z"
   },
   {
    "duration": 8,
    "start_time": "2025-08-02T23:47:22.055Z"
   },
   {
    "duration": 5,
    "start_time": "2025-08-02T23:47:30.511Z"
   },
   {
    "duration": 99,
    "start_time": "2025-08-02T23:54:09.539Z"
   },
   {
    "duration": 104,
    "start_time": "2025-08-02T23:54:17.247Z"
   },
   {
    "duration": 126,
    "start_time": "2025-08-02T23:54:48.687Z"
   },
   {
    "duration": 147,
    "start_time": "2025-08-02T23:55:14.281Z"
   },
   {
    "duration": 235,
    "start_time": "2025-08-02T23:56:07.895Z"
   },
   {
    "duration": 162,
    "start_time": "2025-08-02T23:56:39.447Z"
   },
   {
    "duration": 155,
    "start_time": "2025-08-02T23:56:57.185Z"
   },
   {
    "duration": 171,
    "start_time": "2025-08-02T23:57:10.556Z"
   },
   {
    "duration": 275,
    "start_time": "2025-08-02T23:57:32.120Z"
   },
   {
    "duration": 160,
    "start_time": "2025-08-02T23:57:54.217Z"
   },
   {
    "duration": 185,
    "start_time": "2025-08-03T00:00:05.463Z"
   },
   {
    "duration": 4038,
    "start_time": "2025-08-03T21:37:17.329Z"
   },
   {
    "duration": 1804,
    "start_time": "2025-08-03T21:37:21.370Z"
   },
   {
    "duration": 482,
    "start_time": "2025-08-03T21:37:23.176Z"
   },
   {
    "duration": 13,
    "start_time": "2025-08-03T21:37:23.660Z"
   },
   {
    "duration": 34,
    "start_time": "2025-08-03T21:37:23.675Z"
   },
   {
    "duration": 33,
    "start_time": "2025-08-03T21:37:23.718Z"
   },
   {
    "duration": 31,
    "start_time": "2025-08-03T21:37:23.752Z"
   },
   {
    "duration": 18,
    "start_time": "2025-08-03T21:37:23.786Z"
   },
   {
    "duration": 31,
    "start_time": "2025-08-03T21:37:23.807Z"
   },
   {
    "duration": 103,
    "start_time": "2025-08-03T21:37:23.841Z"
   },
   {
    "duration": 63,
    "start_time": "2025-08-03T21:37:23.946Z"
   },
   {
    "duration": 59,
    "start_time": "2025-08-03T21:37:24.011Z"
   },
   {
    "duration": 62,
    "start_time": "2025-08-03T21:37:24.072Z"
   },
   {
    "duration": 32,
    "start_time": "2025-08-03T21:37:24.136Z"
   },
   {
    "duration": 151,
    "start_time": "2025-08-03T21:37:24.169Z"
   },
   {
    "duration": 33,
    "start_time": "2025-08-03T21:37:24.322Z"
   },
   {
    "duration": 31,
    "start_time": "2025-08-03T21:37:24.357Z"
   },
   {
    "duration": 49,
    "start_time": "2025-08-03T21:37:24.390Z"
   },
   {
    "duration": 29,
    "start_time": "2025-08-03T21:37:24.441Z"
   },
   {
    "duration": 363,
    "start_time": "2025-08-03T21:37:24.472Z"
   },
   {
    "duration": 15,
    "start_time": "2025-08-03T21:37:24.843Z"
   },
   {
    "duration": 294,
    "start_time": "2025-08-03T21:37:24.860Z"
   },
   {
    "duration": 12,
    "start_time": "2025-08-03T21:37:25.156Z"
   },
   {
    "duration": 306,
    "start_time": "2025-08-03T21:37:25.170Z"
   },
   {
    "duration": 13,
    "start_time": "2025-08-03T21:37:25.477Z"
   },
   {
    "duration": 509,
    "start_time": "2025-08-03T21:37:25.501Z"
   },
   {
    "duration": 264,
    "start_time": "2025-08-03T21:37:26.012Z"
   },
   {
    "duration": 295,
    "start_time": "2025-08-03T21:37:26.280Z"
   },
   {
    "duration": 256,
    "start_time": "2025-08-03T21:37:26.577Z"
   },
   {
    "duration": 258,
    "start_time": "2025-08-03T21:37:26.834Z"
   },
   {
    "duration": 288,
    "start_time": "2025-08-03T21:37:27.093Z"
   },
   {
    "duration": 270,
    "start_time": "2025-08-03T21:37:27.383Z"
   },
   {
    "duration": 279,
    "start_time": "2025-08-03T21:37:27.655Z"
   },
   {
    "duration": 273,
    "start_time": "2025-08-03T21:37:27.936Z"
   },
   {
    "duration": 853,
    "start_time": "2025-08-03T21:37:28.215Z"
   },
   {
    "duration": 685,
    "start_time": "2025-08-03T21:37:29.070Z"
   },
   {
    "duration": 702,
    "start_time": "2025-08-03T21:37:29.757Z"
   },
   {
    "duration": 53,
    "start_time": "2025-08-03T21:37:30.461Z"
   },
   {
    "duration": 31,
    "start_time": "2025-08-03T21:37:30.523Z"
   },
   {
    "duration": 169,
    "start_time": "2025-08-03T21:37:30.556Z"
   },
   {
    "duration": 89,
    "start_time": "2025-08-03T21:37:30.729Z"
   },
   {
    "duration": 42,
    "start_time": "2025-08-03T21:37:30.822Z"
   },
   {
    "duration": 41,
    "start_time": "2025-08-03T21:37:30.866Z"
   },
   {
    "duration": 154,
    "start_time": "2025-08-03T21:37:30.909Z"
   },
   {
    "duration": 39,
    "start_time": "2025-08-03T21:37:31.065Z"
   },
   {
    "duration": 151,
    "start_time": "2025-08-03T21:37:31.106Z"
   },
   {
    "duration": 0,
    "start_time": "2025-08-03T21:37:31.259Z"
   },
   {
    "duration": 0,
    "start_time": "2025-08-03T21:37:31.260Z"
   },
   {
    "duration": 0,
    "start_time": "2025-08-03T21:37:31.261Z"
   },
   {
    "duration": 0,
    "start_time": "2025-08-03T21:37:31.262Z"
   },
   {
    "duration": 4,
    "start_time": "2025-08-03T21:38:03.985Z"
   },
   {
    "duration": 13,
    "start_time": "2025-08-03T21:38:06.064Z"
   },
   {
    "duration": 4,
    "start_time": "2025-08-03T21:38:38.644Z"
   },
   {
    "duration": 1442,
    "start_time": "2025-08-03T21:38:46.725Z"
   },
   {
    "duration": 4,
    "start_time": "2025-08-03T21:38:53.263Z"
   },
   {
    "duration": 8,
    "start_time": "2025-08-03T21:38:57.591Z"
   },
   {
    "duration": 5,
    "start_time": "2025-08-03T21:39:00.658Z"
   },
   {
    "duration": 191,
    "start_time": "2025-08-03T21:39:03.194Z"
   },
   {
    "duration": 3,
    "start_time": "2025-08-03T21:40:56.177Z"
   },
   {
    "duration": 1003,
    "start_time": "2025-08-03T21:40:57.470Z"
   },
   {
    "duration": 4,
    "start_time": "2025-08-03T21:41:00.390Z"
   },
   {
    "duration": 7,
    "start_time": "2025-08-03T21:41:02.425Z"
   },
   {
    "duration": 5,
    "start_time": "2025-08-03T21:41:03.222Z"
   },
   {
    "duration": 175,
    "start_time": "2025-08-03T21:41:03.526Z"
   },
   {
    "duration": 4,
    "start_time": "2025-08-03T21:50:03.357Z"
   },
   {
    "duration": 22,
    "start_time": "2025-08-03T21:50:25.333Z"
   },
   {
    "duration": 6,
    "start_time": "2025-08-03T21:52:35.878Z"
   },
   {
    "duration": 225,
    "start_time": "2025-08-03T21:52:37.163Z"
   },
   {
    "duration": 5,
    "start_time": "2025-08-03T21:52:40.165Z"
   },
   {
    "duration": 10,
    "start_time": "2025-08-03T21:52:41.224Z"
   },
   {
    "duration": 6,
    "start_time": "2025-08-03T21:52:43.632Z"
   },
   {
    "duration": 202,
    "start_time": "2025-08-03T21:52:44.377Z"
   },
   {
    "duration": 3,
    "start_time": "2025-08-03T21:56:15.133Z"
   },
   {
    "duration": 4,
    "start_time": "2025-08-03T21:56:15.548Z"
   },
   {
    "duration": 524,
    "start_time": "2025-08-03T21:56:16.608Z"
   },
   {
    "duration": 10,
    "start_time": "2025-08-03T21:56:34.276Z"
   },
   {
    "duration": 2974,
    "start_time": "2025-08-03T21:56:50.793Z"
   },
   {
    "duration": 1713,
    "start_time": "2025-08-03T21:56:53.770Z"
   },
   {
    "duration": 556,
    "start_time": "2025-08-03T21:56:55.484Z"
   },
   {
    "duration": 14,
    "start_time": "2025-08-03T21:56:56.043Z"
   },
   {
    "duration": 22,
    "start_time": "2025-08-03T21:56:56.059Z"
   },
   {
    "duration": 22,
    "start_time": "2025-08-03T21:56:56.083Z"
   },
   {
    "duration": 39,
    "start_time": "2025-08-03T21:56:56.119Z"
   },
   {
    "duration": 45,
    "start_time": "2025-08-03T21:56:56.160Z"
   },
   {
    "duration": 36,
    "start_time": "2025-08-03T21:56:56.208Z"
   },
   {
    "duration": 176,
    "start_time": "2025-08-03T21:56:56.248Z"
   },
   {
    "duration": 124,
    "start_time": "2025-08-03T21:56:56.426Z"
   },
   {
    "duration": 190,
    "start_time": "2025-08-03T21:56:56.551Z"
   },
   {
    "duration": 94,
    "start_time": "2025-08-03T21:56:56.746Z"
   },
   {
    "duration": 95,
    "start_time": "2025-08-03T21:56:56.846Z"
   },
   {
    "duration": 103,
    "start_time": "2025-08-03T21:56:56.945Z"
   },
   {
    "duration": 92,
    "start_time": "2025-08-03T21:56:57.050Z"
   },
   {
    "duration": 90,
    "start_time": "2025-08-03T21:56:57.144Z"
   },
   {
    "duration": 94,
    "start_time": "2025-08-03T21:56:57.242Z"
   },
   {
    "duration": 102,
    "start_time": "2025-08-03T21:56:57.337Z"
   },
   {
    "duration": 688,
    "start_time": "2025-08-03T21:56:57.443Z"
   },
   {
    "duration": 12,
    "start_time": "2025-08-03T21:56:58.140Z"
   },
   {
    "duration": 370,
    "start_time": "2025-08-03T21:56:58.154Z"
   },
   {
    "duration": 17,
    "start_time": "2025-08-03T21:56:58.530Z"
   },
   {
    "duration": 401,
    "start_time": "2025-08-03T21:56:58.549Z"
   },
   {
    "duration": 12,
    "start_time": "2025-08-03T21:56:58.952Z"
   },
   {
    "duration": 411,
    "start_time": "2025-08-03T21:56:58.965Z"
   },
   {
    "duration": 278,
    "start_time": "2025-08-03T21:56:59.378Z"
   },
   {
    "duration": 307,
    "start_time": "2025-08-03T21:56:59.660Z"
   },
   {
    "duration": 283,
    "start_time": "2025-08-03T21:56:59.968Z"
   },
   {
    "duration": 267,
    "start_time": "2025-08-03T21:57:00.253Z"
   },
   {
    "duration": 319,
    "start_time": "2025-08-03T21:57:00.522Z"
   },
   {
    "duration": 294,
    "start_time": "2025-08-03T21:57:00.843Z"
   },
   {
    "duration": 288,
    "start_time": "2025-08-03T21:57:01.141Z"
   },
   {
    "duration": 291,
    "start_time": "2025-08-03T21:57:01.431Z"
   },
   {
    "duration": 871,
    "start_time": "2025-08-03T21:57:01.723Z"
   },
   {
    "duration": 780,
    "start_time": "2025-08-03T21:57:02.596Z"
   },
   {
    "duration": 696,
    "start_time": "2025-08-03T21:57:03.378Z"
   },
   {
    "duration": 52,
    "start_time": "2025-08-03T21:57:04.076Z"
   },
   {
    "duration": 46,
    "start_time": "2025-08-03T21:57:04.130Z"
   },
   {
    "duration": 146,
    "start_time": "2025-08-03T21:57:04.177Z"
   },
   {
    "duration": 179,
    "start_time": "2025-08-03T21:57:04.328Z"
   },
   {
    "duration": 8,
    "start_time": "2025-08-03T21:57:04.515Z"
   },
   {
    "duration": 27,
    "start_time": "2025-08-03T21:57:04.529Z"
   },
   {
    "duration": 25,
    "start_time": "2025-08-03T21:57:04.558Z"
   },
   {
    "duration": 192,
    "start_time": "2025-08-03T21:57:04.585Z"
   },
   {
    "duration": 0,
    "start_time": "2025-08-03T21:57:04.780Z"
   },
   {
    "duration": 0,
    "start_time": "2025-08-03T21:57:04.782Z"
   },
   {
    "duration": 0,
    "start_time": "2025-08-03T21:57:04.783Z"
   },
   {
    "duration": 0,
    "start_time": "2025-08-03T21:57:04.785Z"
   },
   {
    "duration": 0,
    "start_time": "2025-08-03T21:57:04.803Z"
   },
   {
    "duration": 0,
    "start_time": "2025-08-03T21:57:04.811Z"
   },
   {
    "duration": 5,
    "start_time": "2025-08-03T21:57:15.914Z"
   },
   {
    "duration": 4,
    "start_time": "2025-08-03T21:57:16.459Z"
   },
   {
    "duration": 515,
    "start_time": "2025-08-03T21:57:18.857Z"
   },
   {
    "duration": 2776,
    "start_time": "2025-08-03T21:57:57.316Z"
   },
   {
    "duration": 1664,
    "start_time": "2025-08-03T21:58:00.095Z"
   },
   {
    "duration": 493,
    "start_time": "2025-08-03T21:58:01.761Z"
   },
   {
    "duration": 14,
    "start_time": "2025-08-03T21:58:02.256Z"
   },
   {
    "duration": 61,
    "start_time": "2025-08-03T21:58:02.272Z"
   },
   {
    "duration": 87,
    "start_time": "2025-08-03T21:58:02.335Z"
   },
   {
    "duration": 36,
    "start_time": "2025-08-03T21:58:02.424Z"
   },
   {
    "duration": 15,
    "start_time": "2025-08-03T21:58:02.461Z"
   },
   {
    "duration": 113,
    "start_time": "2025-08-03T21:58:02.478Z"
   },
   {
    "duration": 81,
    "start_time": "2025-08-03T21:58:02.593Z"
   },
   {
    "duration": 56,
    "start_time": "2025-08-03T21:58:02.675Z"
   },
   {
    "duration": 49,
    "start_time": "2025-08-03T21:58:02.732Z"
   },
   {
    "duration": 62,
    "start_time": "2025-08-03T21:58:02.783Z"
   },
   {
    "duration": 50,
    "start_time": "2025-08-03T21:58:02.847Z"
   },
   {
    "duration": 53,
    "start_time": "2025-08-03T21:58:02.898Z"
   },
   {
    "duration": 44,
    "start_time": "2025-08-03T21:58:02.953Z"
   },
   {
    "duration": 166,
    "start_time": "2025-08-03T21:58:03.001Z"
   },
   {
    "duration": 63,
    "start_time": "2025-08-03T21:58:03.168Z"
   },
   {
    "duration": 30,
    "start_time": "2025-08-03T21:58:03.233Z"
   },
   {
    "duration": 290,
    "start_time": "2025-08-03T21:58:03.265Z"
   },
   {
    "duration": 13,
    "start_time": "2025-08-03T21:58:03.557Z"
   },
   {
    "duration": 417,
    "start_time": "2025-08-03T21:58:03.572Z"
   },
   {
    "duration": 22,
    "start_time": "2025-08-03T21:58:03.990Z"
   },
   {
    "duration": 255,
    "start_time": "2025-08-03T21:58:04.013Z"
   },
   {
    "duration": 12,
    "start_time": "2025-08-03T21:58:04.270Z"
   },
   {
    "duration": 397,
    "start_time": "2025-08-03T21:58:04.284Z"
   },
   {
    "duration": 282,
    "start_time": "2025-08-03T21:58:04.684Z"
   },
   {
    "duration": 291,
    "start_time": "2025-08-03T21:58:04.971Z"
   },
   {
    "duration": 264,
    "start_time": "2025-08-03T21:58:05.264Z"
   },
   {
    "duration": 256,
    "start_time": "2025-08-03T21:58:05.530Z"
   },
   {
    "duration": 301,
    "start_time": "2025-08-03T21:58:05.788Z"
   },
   {
    "duration": 262,
    "start_time": "2025-08-03T21:58:06.091Z"
   },
   {
    "duration": 277,
    "start_time": "2025-08-03T21:58:06.355Z"
   },
   {
    "duration": 257,
    "start_time": "2025-08-03T21:58:06.634Z"
   },
   {
    "duration": 860,
    "start_time": "2025-08-03T21:58:06.893Z"
   },
   {
    "duration": 690,
    "start_time": "2025-08-03T21:58:07.754Z"
   },
   {
    "duration": 704,
    "start_time": "2025-08-03T21:58:08.446Z"
   },
   {
    "duration": 57,
    "start_time": "2025-08-03T21:58:09.152Z"
   },
   {
    "duration": 38,
    "start_time": "2025-08-03T21:58:09.211Z"
   },
   {
    "duration": 63,
    "start_time": "2025-08-03T21:58:09.251Z"
   },
   {
    "duration": 96,
    "start_time": "2025-08-03T21:58:09.325Z"
   },
   {
    "duration": 5,
    "start_time": "2025-08-03T21:58:09.503Z"
   },
   {
    "duration": 79,
    "start_time": "2025-08-03T21:58:09.513Z"
   },
   {
    "duration": 143,
    "start_time": "2025-08-03T21:58:09.594Z"
   },
   {
    "duration": 4,
    "start_time": "2025-08-03T21:58:09.739Z"
   },
   {
    "duration": 148,
    "start_time": "2025-08-03T21:58:09.745Z"
   },
   {
    "duration": 0,
    "start_time": "2025-08-03T21:58:09.894Z"
   },
   {
    "duration": 0,
    "start_time": "2025-08-03T21:58:09.902Z"
   },
   {
    "duration": 0,
    "start_time": "2025-08-03T21:58:09.903Z"
   },
   {
    "duration": 0,
    "start_time": "2025-08-03T21:58:09.904Z"
   },
   {
    "duration": 5,
    "start_time": "2025-08-03T21:59:36.988Z"
   },
   {
    "duration": 5,
    "start_time": "2025-08-03T21:59:45.802Z"
   },
   {
    "duration": 21,
    "start_time": "2025-08-03T22:00:52.631Z"
   },
   {
    "duration": 6,
    "start_time": "2025-08-03T22:02:10.776Z"
   },
   {
    "duration": 23,
    "start_time": "2025-08-03T22:02:11.826Z"
   },
   {
    "duration": 7,
    "start_time": "2025-08-03T22:02:15.026Z"
   },
   {
    "duration": 4531,
    "start_time": "2025-08-03T22:08:00.463Z"
   },
   {
    "duration": 1856,
    "start_time": "2025-08-03T22:08:04.997Z"
   },
   {
    "duration": 528,
    "start_time": "2025-08-03T22:08:06.855Z"
   },
   {
    "duration": 26,
    "start_time": "2025-08-03T22:08:07.385Z"
   },
   {
    "duration": 18,
    "start_time": "2025-08-03T22:08:07.417Z"
   },
   {
    "duration": 16,
    "start_time": "2025-08-03T22:08:07.437Z"
   },
   {
    "duration": 29,
    "start_time": "2025-08-03T22:08:07.455Z"
   },
   {
    "duration": 22,
    "start_time": "2025-08-03T22:08:07.487Z"
   },
   {
    "duration": 60,
    "start_time": "2025-08-03T22:08:07.511Z"
   },
   {
    "duration": 115,
    "start_time": "2025-08-03T22:08:07.574Z"
   },
   {
    "duration": 127,
    "start_time": "2025-08-03T22:08:07.690Z"
   },
   {
    "duration": 58,
    "start_time": "2025-08-03T22:08:07.819Z"
   },
   {
    "duration": 53,
    "start_time": "2025-08-03T22:08:07.878Z"
   },
   {
    "duration": 31,
    "start_time": "2025-08-03T22:08:07.933Z"
   },
   {
    "duration": 28,
    "start_time": "2025-08-03T22:08:07.965Z"
   },
   {
    "duration": 44,
    "start_time": "2025-08-03T22:08:08.007Z"
   },
   {
    "duration": 28,
    "start_time": "2025-08-03T22:08:08.053Z"
   },
   {
    "duration": 59,
    "start_time": "2025-08-03T22:08:08.083Z"
   },
   {
    "duration": 27,
    "start_time": "2025-08-03T22:08:08.144Z"
   },
   {
    "duration": 321,
    "start_time": "2025-08-03T22:08:08.173Z"
   },
   {
    "duration": 45,
    "start_time": "2025-08-03T22:08:08.496Z"
   },
   {
    "duration": 331,
    "start_time": "2025-08-03T22:08:08.542Z"
   },
   {
    "duration": 13,
    "start_time": "2025-08-03T22:08:08.874Z"
   },
   {
    "duration": 343,
    "start_time": "2025-08-03T22:08:08.889Z"
   },
   {
    "duration": 19,
    "start_time": "2025-08-03T22:08:09.233Z"
   },
   {
    "duration": 433,
    "start_time": "2025-08-03T22:08:09.254Z"
   },
   {
    "duration": 289,
    "start_time": "2025-08-03T22:08:09.688Z"
   },
   {
    "duration": 330,
    "start_time": "2025-08-03T22:08:09.981Z"
   },
   {
    "duration": 272,
    "start_time": "2025-08-03T22:08:10.313Z"
   },
   {
    "duration": 306,
    "start_time": "2025-08-03T22:08:10.587Z"
   },
   {
    "duration": 321,
    "start_time": "2025-08-03T22:08:10.895Z"
   },
   {
    "duration": 270,
    "start_time": "2025-08-03T22:08:11.221Z"
   },
   {
    "duration": 327,
    "start_time": "2025-08-03T22:08:11.493Z"
   },
   {
    "duration": 270,
    "start_time": "2025-08-03T22:08:11.822Z"
   },
   {
    "duration": 877,
    "start_time": "2025-08-03T22:08:12.094Z"
   },
   {
    "duration": 740,
    "start_time": "2025-08-03T22:08:12.973Z"
   },
   {
    "duration": 739,
    "start_time": "2025-08-03T22:08:13.725Z"
   },
   {
    "duration": 62,
    "start_time": "2025-08-03T22:08:14.466Z"
   },
   {
    "duration": 37,
    "start_time": "2025-08-03T22:08:14.539Z"
   },
   {
    "duration": 182,
    "start_time": "2025-08-03T22:08:14.578Z"
   },
   {
    "duration": 146,
    "start_time": "2025-08-03T22:08:14.763Z"
   },
   {
    "duration": 21,
    "start_time": "2025-08-03T22:08:14.916Z"
   },
   {
    "duration": 9,
    "start_time": "2025-08-03T22:08:14.940Z"
   },
   {
    "duration": 4,
    "start_time": "2025-08-03T22:08:14.951Z"
   },
   {
    "duration": 7,
    "start_time": "2025-08-03T22:08:14.956Z"
   },
   {
    "duration": 183,
    "start_time": "2025-08-03T22:08:14.964Z"
   },
   {
    "duration": 0,
    "start_time": "2025-08-03T22:08:15.150Z"
   },
   {
    "duration": 0,
    "start_time": "2025-08-03T22:08:15.150Z"
   },
   {
    "duration": 0,
    "start_time": "2025-08-03T22:08:15.151Z"
   },
   {
    "duration": 0,
    "start_time": "2025-08-03T22:08:15.152Z"
   },
   {
    "duration": 7,
    "start_time": "2025-08-03T22:09:34.411Z"
   },
   {
    "duration": 213,
    "start_time": "2025-08-03T22:09:35.463Z"
   },
   {
    "duration": 16,
    "start_time": "2025-08-03T22:09:37.812Z"
   },
   {
    "duration": 7,
    "start_time": "2025-08-03T22:09:45.019Z"
   },
   {
    "duration": 223,
    "start_time": "2025-08-03T22:09:45.946Z"
   },
   {
    "duration": 8,
    "start_time": "2025-08-03T22:09:47.610Z"
   },
   {
    "duration": 4,
    "start_time": "2025-08-03T22:10:17.790Z"
   },
   {
    "duration": 26,
    "start_time": "2025-08-03T22:12:32.709Z"
   },
   {
    "duration": 27,
    "start_time": "2025-08-03T22:12:53.209Z"
   },
   {
    "duration": 4,
    "start_time": "2025-08-03T22:15:42.726Z"
   },
   {
    "duration": 17,
    "start_time": "2025-08-03T22:15:44.341Z"
   },
   {
    "duration": 66,
    "start_time": "2025-08-03T22:15:56.314Z"
   },
   {
    "duration": 10,
    "start_time": "2025-08-03T22:15:59.525Z"
   },
   {
    "duration": 84,
    "start_time": "2025-08-03T22:17:00.941Z"
   },
   {
    "duration": 11,
    "start_time": "2025-08-03T22:17:03.309Z"
   },
   {
    "duration": 193,
    "start_time": "2025-08-03T22:17:03.570Z"
   },
   {
    "duration": 4,
    "start_time": "2025-08-03T22:17:04.889Z"
   },
   {
    "duration": 10,
    "start_time": "2025-08-03T22:17:06.783Z"
   },
   {
    "duration": 16,
    "start_time": "2025-08-03T22:17:10.107Z"
   },
   {
    "duration": 199,
    "start_time": "2025-08-03T22:17:13.231Z"
   },
   {
    "duration": 4,
    "start_time": "2025-08-03T22:17:29.767Z"
   },
   {
    "duration": 4,
    "start_time": "2025-08-03T22:17:30.562Z"
   },
   {
    "duration": 186,
    "start_time": "2025-08-03T22:17:30.979Z"
   },
   {
    "duration": 4,
    "start_time": "2025-08-03T22:17:32.663Z"
   },
   {
    "duration": 8,
    "start_time": "2025-08-03T22:17:33.484Z"
   },
   {
    "duration": 6,
    "start_time": "2025-08-03T22:17:34.436Z"
   },
   {
    "duration": 233,
    "start_time": "2025-08-03T22:17:34.686Z"
   },
   {
    "duration": 3742,
    "start_time": "2025-08-04T19:12:53.117Z"
   },
   {
    "duration": 1704,
    "start_time": "2025-08-04T19:12:56.862Z"
   },
   {
    "duration": 449,
    "start_time": "2025-08-04T19:12:58.568Z"
   },
   {
    "duration": 16,
    "start_time": "2025-08-04T19:12:59.019Z"
   },
   {
    "duration": 80,
    "start_time": "2025-08-04T19:12:59.038Z"
   },
   {
    "duration": 25,
    "start_time": "2025-08-04T19:12:59.119Z"
   },
   {
    "duration": 39,
    "start_time": "2025-08-04T19:12:59.145Z"
   },
   {
    "duration": 14,
    "start_time": "2025-08-04T19:12:59.187Z"
   },
   {
    "duration": 15,
    "start_time": "2025-08-04T19:12:59.203Z"
   },
   {
    "duration": 69,
    "start_time": "2025-08-04T19:12:59.219Z"
   },
   {
    "duration": 45,
    "start_time": "2025-08-04T19:12:59.291Z"
   },
   {
    "duration": 72,
    "start_time": "2025-08-04T19:12:59.338Z"
   },
   {
    "duration": 38,
    "start_time": "2025-08-04T19:12:59.411Z"
   },
   {
    "duration": 36,
    "start_time": "2025-08-04T19:12:59.452Z"
   },
   {
    "duration": 69,
    "start_time": "2025-08-04T19:12:59.491Z"
   },
   {
    "duration": 39,
    "start_time": "2025-08-04T19:12:59.563Z"
   },
   {
    "duration": 52,
    "start_time": "2025-08-04T19:12:59.603Z"
   },
   {
    "duration": 47,
    "start_time": "2025-08-04T19:12:59.657Z"
   },
   {
    "duration": 27,
    "start_time": "2025-08-04T19:12:59.706Z"
   },
   {
    "duration": 278,
    "start_time": "2025-08-04T19:12:59.734Z"
   },
   {
    "duration": 13,
    "start_time": "2025-08-04T19:13:00.014Z"
   },
   {
    "duration": 330,
    "start_time": "2025-08-04T19:13:00.029Z"
   },
   {
    "duration": 31,
    "start_time": "2025-08-04T19:13:00.361Z"
   },
   {
    "duration": 303,
    "start_time": "2025-08-04T19:13:00.393Z"
   },
   {
    "duration": 13,
    "start_time": "2025-08-04T19:13:00.698Z"
   },
   {
    "duration": 389,
    "start_time": "2025-08-04T19:13:00.713Z"
   },
   {
    "duration": 241,
    "start_time": "2025-08-04T19:13:01.104Z"
   },
   {
    "duration": 271,
    "start_time": "2025-08-04T19:13:01.346Z"
   },
   {
    "duration": 274,
    "start_time": "2025-08-04T19:13:01.618Z"
   },
   {
    "duration": 255,
    "start_time": "2025-08-04T19:13:01.894Z"
   },
   {
    "duration": 302,
    "start_time": "2025-08-04T19:13:02.151Z"
   },
   {
    "duration": 278,
    "start_time": "2025-08-04T19:13:02.455Z"
   },
   {
    "duration": 282,
    "start_time": "2025-08-04T19:13:02.734Z"
   },
   {
    "duration": 232,
    "start_time": "2025-08-04T19:13:03.018Z"
   },
   {
    "duration": 787,
    "start_time": "2025-08-04T19:13:03.251Z"
   },
   {
    "duration": 688,
    "start_time": "2025-08-04T19:13:04.040Z"
   },
   {
    "duration": 700,
    "start_time": "2025-08-04T19:13:04.730Z"
   },
   {
    "duration": 55,
    "start_time": "2025-08-04T19:13:05.432Z"
   },
   {
    "duration": 124,
    "start_time": "2025-08-04T19:13:05.489Z"
   },
   {
    "duration": 164,
    "start_time": "2025-08-04T19:13:05.615Z"
   },
   {
    "duration": 100,
    "start_time": "2025-08-04T19:13:05.786Z"
   },
   {
    "duration": 98,
    "start_time": "2025-08-04T19:13:05.889Z"
   },
   {
    "duration": 23,
    "start_time": "2025-08-04T19:13:05.989Z"
   },
   {
    "duration": 36,
    "start_time": "2025-08-04T19:13:06.014Z"
   },
   {
    "duration": 49,
    "start_time": "2025-08-04T19:13:06.052Z"
   },
   {
    "duration": 13,
    "start_time": "2025-08-04T19:13:06.103Z"
   },
   {
    "duration": 874,
    "start_time": "2025-08-04T19:13:06.118Z"
   },
   {
    "duration": 6,
    "start_time": "2025-08-04T19:13:06.994Z"
   },
   {
    "duration": 135,
    "start_time": "2025-08-04T19:13:07.002Z"
   },
   {
    "duration": 34,
    "start_time": "2025-08-04T19:13:07.138Z"
   },
   {
    "duration": 216,
    "start_time": "2025-08-04T19:13:07.180Z"
   },
   {
    "duration": 4,
    "start_time": "2025-08-04T19:13:35.297Z"
   },
   {
    "duration": 4,
    "start_time": "2025-08-04T19:13:35.913Z"
   },
   {
    "duration": 187,
    "start_time": "2025-08-04T19:13:36.355Z"
   },
   {
    "duration": 5,
    "start_time": "2025-08-04T19:13:37.490Z"
   },
   {
    "duration": 8,
    "start_time": "2025-08-04T19:13:38.599Z"
   },
   {
    "duration": 5,
    "start_time": "2025-08-04T19:13:39.692Z"
   },
   {
    "duration": 9,
    "start_time": "2025-08-04T19:14:36.052Z"
   }
  ],
  "kernelspec": {
   "display_name": "Python 3 (ipykernel)",
   "language": "python",
   "name": "python3"
  },
  "language_info": {
   "codemirror_mode": {
    "name": "ipython",
    "version": 3
   },
   "file_extension": ".py",
   "mimetype": "text/x-python",
   "name": "python",
   "nbconvert_exporter": "python",
   "pygments_lexer": "ipython3",
   "version": "3.13.5"
  },
  "toc": {
   "base_numbering": 1,
   "nav_menu": {},
   "number_sections": true,
   "sideBar": true,
   "skip_h1_title": true,
   "title_cell": "Table of Contents",
   "title_sidebar": "Contents",
   "toc_cell": false,
   "toc_position": {},
   "toc_section_display": true,
   "toc_window_display": true
  }
 },
 "nbformat": 4,
 "nbformat_minor": 4
}
